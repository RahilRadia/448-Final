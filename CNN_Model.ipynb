{
 "cells": [
  {
   "cell_type": "code",
   "execution_count": 7,
   "metadata": {},
   "outputs": [
    {
     "name": "stdout",
     "output_type": "stream",
     "text": [
      "Requirement already satisfied: tensorflow in c:\\users\\rahil\\appdata\\local\\programs\\python\\python311\\lib\\site-packages (2.15.0)\n",
      "Requirement already satisfied: tensorflow-intel==2.15.0 in c:\\users\\rahil\\appdata\\local\\programs\\python\\python311\\lib\\site-packages (from tensorflow) (2.15.0)\n",
      "Requirement already satisfied: absl-py>=1.0.0 in c:\\users\\rahil\\appdata\\local\\programs\\python\\python311\\lib\\site-packages (from tensorflow-intel==2.15.0->tensorflow) (2.0.0)\n",
      "Requirement already satisfied: astunparse>=1.6.0 in c:\\users\\rahil\\appdata\\local\\programs\\python\\python311\\lib\\site-packages (from tensorflow-intel==2.15.0->tensorflow) (1.6.3)\n",
      "Requirement already satisfied: flatbuffers>=23.5.26 in c:\\users\\rahil\\appdata\\local\\programs\\python\\python311\\lib\\site-packages (from tensorflow-intel==2.15.0->tensorflow) (23.5.26)\n",
      "Requirement already satisfied: gast!=0.5.0,!=0.5.1,!=0.5.2,>=0.2.1 in c:\\users\\rahil\\appdata\\local\\programs\\python\\python311\\lib\\site-packages (from tensorflow-intel==2.15.0->tensorflow) (0.5.4)\n",
      "Requirement already satisfied: google-pasta>=0.1.1 in c:\\users\\rahil\\appdata\\local\\programs\\python\\python311\\lib\\site-packages (from tensorflow-intel==2.15.0->tensorflow) (0.2.0)\n",
      "Requirement already satisfied: h5py>=2.9.0 in c:\\users\\rahil\\appdata\\local\\programs\\python\\python311\\lib\\site-packages (from tensorflow-intel==2.15.0->tensorflow) (3.10.0)\n",
      "Requirement already satisfied: libclang>=13.0.0 in c:\\users\\rahil\\appdata\\local\\programs\\python\\python311\\lib\\site-packages (from tensorflow-intel==2.15.0->tensorflow) (16.0.6)\n",
      "Requirement already satisfied: ml-dtypes~=0.2.0 in c:\\users\\rahil\\appdata\\local\\programs\\python\\python311\\lib\\site-packages (from tensorflow-intel==2.15.0->tensorflow) (0.2.0)\n",
      "Requirement already satisfied: numpy<2.0.0,>=1.23.5 in c:\\users\\rahil\\appdata\\local\\programs\\python\\python311\\lib\\site-packages (from tensorflow-intel==2.15.0->tensorflow) (1.26.2)\n",
      "Requirement already satisfied: opt-einsum>=2.3.2 in c:\\users\\rahil\\appdata\\local\\programs\\python\\python311\\lib\\site-packages (from tensorflow-intel==2.15.0->tensorflow) (3.3.0)\n",
      "Requirement already satisfied: packaging in c:\\users\\rahil\\appdata\\roaming\\python\\python311\\site-packages (from tensorflow-intel==2.15.0->tensorflow) (23.2)\n",
      "Requirement already satisfied: protobuf!=4.21.0,!=4.21.1,!=4.21.2,!=4.21.3,!=4.21.4,!=4.21.5,<5.0.0dev,>=3.20.3 in c:\\users\\rahil\\appdata\\local\\programs\\python\\python311\\lib\\site-packages (from tensorflow-intel==2.15.0->tensorflow) (4.23.4)\n",
      "Requirement already satisfied: setuptools in c:\\users\\rahil\\appdata\\local\\programs\\python\\python311\\lib\\site-packages (from tensorflow-intel==2.15.0->tensorflow) (65.5.0)\n",
      "Requirement already satisfied: six>=1.12.0 in c:\\users\\rahil\\appdata\\roaming\\python\\python311\\site-packages (from tensorflow-intel==2.15.0->tensorflow) (1.16.0)\n",
      "Requirement already satisfied: termcolor>=1.1.0 in c:\\users\\rahil\\appdata\\local\\programs\\python\\python311\\lib\\site-packages (from tensorflow-intel==2.15.0->tensorflow) (2.3.0)\n",
      "Requirement already satisfied: typing-extensions>=3.6.6 in c:\\users\\rahil\\appdata\\local\\programs\\python\\python311\\lib\\site-packages (from tensorflow-intel==2.15.0->tensorflow) (4.8.0)\n",
      "Requirement already satisfied: wrapt<1.15,>=1.11.0 in c:\\users\\rahil\\appdata\\local\\programs\\python\\python311\\lib\\site-packages (from tensorflow-intel==2.15.0->tensorflow) (1.14.1)\n",
      "Requirement already satisfied: tensorflow-io-gcs-filesystem>=0.23.1 in c:\\users\\rahil\\appdata\\local\\programs\\python\\python311\\lib\\site-packages (from tensorflow-intel==2.15.0->tensorflow) (0.31.0)\n",
      "Requirement already satisfied: grpcio<2.0,>=1.24.3 in c:\\users\\rahil\\appdata\\local\\programs\\python\\python311\\lib\\site-packages (from tensorflow-intel==2.15.0->tensorflow) (1.59.3)\n",
      "Requirement already satisfied: tensorboard<2.16,>=2.15 in c:\\users\\rahil\\appdata\\local\\programs\\python\\python311\\lib\\site-packages (from tensorflow-intel==2.15.0->tensorflow) (2.15.1)\n",
      "Requirement already satisfied: tensorflow-estimator<2.16,>=2.15.0 in c:\\users\\rahil\\appdata\\local\\programs\\python\\python311\\lib\\site-packages (from tensorflow-intel==2.15.0->tensorflow) (2.15.0)\n",
      "Requirement already satisfied: keras<2.16,>=2.15.0 in c:\\users\\rahil\\appdata\\local\\programs\\python\\python311\\lib\\site-packages (from tensorflow-intel==2.15.0->tensorflow) (2.15.0)\n",
      "Requirement already satisfied: wheel<1.0,>=0.23.0 in c:\\users\\rahil\\appdata\\local\\programs\\python\\python311\\lib\\site-packages (from astunparse>=1.6.0->tensorflow-intel==2.15.0->tensorflow) (0.41.3)\n",
      "Requirement already satisfied: google-auth<3,>=1.6.3 in c:\\users\\rahil\\appdata\\local\\programs\\python\\python311\\lib\\site-packages (from tensorboard<2.16,>=2.15->tensorflow-intel==2.15.0->tensorflow) (2.23.4)\n",
      "Requirement already satisfied: google-auth-oauthlib<2,>=0.5 in c:\\users\\rahil\\appdata\\local\\programs\\python\\python311\\lib\\site-packages (from tensorboard<2.16,>=2.15->tensorflow-intel==2.15.0->tensorflow) (1.1.0)\n",
      "Requirement already satisfied: markdown>=2.6.8 in c:\\users\\rahil\\appdata\\local\\programs\\python\\python311\\lib\\site-packages (from tensorboard<2.16,>=2.15->tensorflow-intel==2.15.0->tensorflow) (3.5.1)\n",
      "Requirement already satisfied: requests<3,>=2.21.0 in c:\\users\\rahil\\appdata\\local\\programs\\python\\python311\\lib\\site-packages (from tensorboard<2.16,>=2.15->tensorflow-intel==2.15.0->tensorflow) (2.31.0)\n",
      "Requirement already satisfied: tensorboard-data-server<0.8.0,>=0.7.0 in c:\\users\\rahil\\appdata\\local\\programs\\python\\python311\\lib\\site-packages (from tensorboard<2.16,>=2.15->tensorflow-intel==2.15.0->tensorflow) (0.7.2)\n",
      "Requirement already satisfied: werkzeug>=1.0.1 in c:\\users\\rahil\\appdata\\local\\programs\\python\\python311\\lib\\site-packages (from tensorboard<2.16,>=2.15->tensorflow-intel==2.15.0->tensorflow) (3.0.1)\n",
      "Requirement already satisfied: cachetools<6.0,>=2.0.0 in c:\\users\\rahil\\appdata\\local\\programs\\python\\python311\\lib\\site-packages (from google-auth<3,>=1.6.3->tensorboard<2.16,>=2.15->tensorflow-intel==2.15.0->tensorflow) (5.3.2)\n",
      "Requirement already satisfied: pyasn1-modules>=0.2.1 in c:\\users\\rahil\\appdata\\local\\programs\\python\\python311\\lib\\site-packages (from google-auth<3,>=1.6.3->tensorboard<2.16,>=2.15->tensorflow-intel==2.15.0->tensorflow) (0.3.0)\n",
      "Requirement already satisfied: rsa<5,>=3.1.4 in c:\\users\\rahil\\appdata\\local\\programs\\python\\python311\\lib\\site-packages (from google-auth<3,>=1.6.3->tensorboard<2.16,>=2.15->tensorflow-intel==2.15.0->tensorflow) (4.9)\n",
      "Requirement already satisfied: requests-oauthlib>=0.7.0 in c:\\users\\rahil\\appdata\\local\\programs\\python\\python311\\lib\\site-packages (from google-auth-oauthlib<2,>=0.5->tensorboard<2.16,>=2.15->tensorflow-intel==2.15.0->tensorflow) (1.3.1)\n",
      "Requirement already satisfied: charset-normalizer<4,>=2 in c:\\users\\rahil\\appdata\\local\\programs\\python\\python311\\lib\\site-packages (from requests<3,>=2.21.0->tensorboard<2.16,>=2.15->tensorflow-intel==2.15.0->tensorflow) (3.3.2)\n",
      "Requirement already satisfied: idna<4,>=2.5 in c:\\users\\rahil\\appdata\\local\\programs\\python\\python311\\lib\\site-packages (from requests<3,>=2.21.0->tensorboard<2.16,>=2.15->tensorflow-intel==2.15.0->tensorflow) (3.4)\n",
      "Requirement already satisfied: urllib3<3,>=1.21.1 in c:\\users\\rahil\\appdata\\local\\programs\\python\\python311\\lib\\site-packages (from requests<3,>=2.21.0->tensorboard<2.16,>=2.15->tensorflow-intel==2.15.0->tensorflow) (2.1.0)\n",
      "Requirement already satisfied: certifi>=2017.4.17 in c:\\users\\rahil\\appdata\\local\\programs\\python\\python311\\lib\\site-packages (from requests<3,>=2.21.0->tensorboard<2.16,>=2.15->tensorflow-intel==2.15.0->tensorflow) (2023.7.22)\n",
      "Requirement already satisfied: MarkupSafe>=2.1.1 in c:\\users\\rahil\\appdata\\local\\programs\\python\\python311\\lib\\site-packages (from werkzeug>=1.0.1->tensorboard<2.16,>=2.15->tensorflow-intel==2.15.0->tensorflow) (2.1.3)\n",
      "Requirement already satisfied: pyasn1<0.6.0,>=0.4.6 in c:\\users\\rahil\\appdata\\local\\programs\\python\\python311\\lib\\site-packages (from pyasn1-modules>=0.2.1->google-auth<3,>=1.6.3->tensorboard<2.16,>=2.15->tensorflow-intel==2.15.0->tensorflow) (0.5.0)\n",
      "Requirement already satisfied: oauthlib>=3.0.0 in c:\\users\\rahil\\appdata\\local\\programs\\python\\python311\\lib\\site-packages (from requests-oauthlib>=0.7.0->google-auth-oauthlib<2,>=0.5->tensorboard<2.16,>=2.15->tensorflow-intel==2.15.0->tensorflow) (3.2.2)\n",
      "Note: you may need to restart the kernel to use updated packages.\n"
     ]
    },
    {
     "name": "stderr",
     "output_type": "stream",
     "text": [
      "\n",
      "[notice] A new release of pip available: 22.3.1 -> 23.3.1\n",
      "[notice] To update, run: python.exe -m pip install --upgrade pip\n"
     ]
    },
    {
     "name": "stdout",
     "output_type": "stream",
     "text": [
      "Requirement already satisfied: keras in c:\\users\\rahil\\appdata\\local\\programs\\python\\python311\\lib\\site-packages (2.15.0)\n",
      "Note: you may need to restart the kernel to use updated packages.\n"
     ]
    },
    {
     "name": "stderr",
     "output_type": "stream",
     "text": [
      "\n",
      "[notice] A new release of pip available: 22.3.1 -> 23.3.1\n",
      "[notice] To update, run: python.exe -m pip install --upgrade pip\n"
     ]
    },
    {
     "name": "stdout",
     "output_type": "stream",
     "text": [
      "Requirement already satisfied: imblearn in c:\\users\\rahil\\appdata\\local\\programs\\python\\python311\\lib\\site-packages (0.0)\n",
      "Requirement already satisfied: imbalanced-learn in c:\\users\\rahil\\appdata\\local\\programs\\python\\python311\\lib\\site-packages (from imblearn) (0.11.0)\n",
      "Requirement already satisfied: numpy>=1.17.3 in c:\\users\\rahil\\appdata\\local\\programs\\python\\python311\\lib\\site-packages (from imbalanced-learn->imblearn) (1.26.2)\n",
      "Requirement already satisfied: scipy>=1.5.0 in c:\\users\\rahil\\appdata\\local\\programs\\python\\python311\\lib\\site-packages (from imbalanced-learn->imblearn) (1.11.3)\n",
      "Requirement already satisfied: scikit-learn>=1.0.2 in c:\\users\\rahil\\appdata\\local\\programs\\python\\python311\\lib\\site-packages (from imbalanced-learn->imblearn) (1.3.2)\n",
      "Requirement already satisfied: joblib>=1.1.1 in c:\\users\\rahil\\appdata\\local\\programs\\python\\python311\\lib\\site-packages (from imbalanced-learn->imblearn) (1.3.2)\n",
      "Requirement already satisfied: threadpoolctl>=2.0.0 in c:\\users\\rahil\\appdata\\local\\programs\\python\\python311\\lib\\site-packages (from imbalanced-learn->imblearn) (3.2.0)\n",
      "Note: you may need to restart the kernel to use updated packages.\n"
     ]
    },
    {
     "name": "stderr",
     "output_type": "stream",
     "text": [
      "\n",
      "[notice] A new release of pip available: 22.3.1 -> 23.3.1\n",
      "[notice] To update, run: python.exe -m pip install --upgrade pip\n"
     ]
    },
    {
     "name": "stdout",
     "output_type": "stream",
     "text": [
      "Requirement already satisfied: matplotlib in c:\\users\\rahil\\appdata\\local\\programs\\python\\python311\\lib\\site-packages (3.8.2)\n",
      "Requirement already satisfied: contourpy>=1.0.1 in c:\\users\\rahil\\appdata\\local\\programs\\python\\python311\\lib\\site-packages (from matplotlib) (1.2.0)\n",
      "Requirement already satisfied: cycler>=0.10 in c:\\users\\rahil\\appdata\\local\\programs\\python\\python311\\lib\\site-packages (from matplotlib) (0.12.1)\n",
      "Requirement already satisfied: fonttools>=4.22.0 in c:\\users\\rahil\\appdata\\local\\programs\\python\\python311\\lib\\site-packages (from matplotlib) (4.44.3)\n",
      "Requirement already satisfied: kiwisolver>=1.3.1 in c:\\users\\rahil\\appdata\\local\\programs\\python\\python311\\lib\\site-packages (from matplotlib) (1.4.5)\n",
      "Requirement already satisfied: numpy<2,>=1.21 in c:\\users\\rahil\\appdata\\local\\programs\\python\\python311\\lib\\site-packages (from matplotlib) (1.26.2)\n",
      "Requirement already satisfied: packaging>=20.0 in c:\\users\\rahil\\appdata\\roaming\\python\\python311\\site-packages (from matplotlib) (23.2)\n",
      "Requirement already satisfied: pillow>=8 in c:\\users\\rahil\\appdata\\local\\programs\\python\\python311\\lib\\site-packages (from matplotlib) (10.1.0)\n",
      "Requirement already satisfied: pyparsing>=2.3.1 in c:\\users\\rahil\\appdata\\local\\programs\\python\\python311\\lib\\site-packages (from matplotlib) (3.1.1)\n",
      "Requirement already satisfied: python-dateutil>=2.7 in c:\\users\\rahil\\appdata\\roaming\\python\\python311\\site-packages (from matplotlib) (2.8.2)\n",
      "Requirement already satisfied: six>=1.5 in c:\\users\\rahil\\appdata\\roaming\\python\\python311\\site-packages (from python-dateutil>=2.7->matplotlib) (1.16.0)\n",
      "Note: you may need to restart the kernel to use updated packages.\n"
     ]
    },
    {
     "name": "stderr",
     "output_type": "stream",
     "text": [
      "\n",
      "[notice] A new release of pip available: 22.3.1 -> 23.3.1\n",
      "[notice] To update, run: python.exe -m pip install --upgrade pip\n"
     ]
    },
    {
     "name": "stdout",
     "output_type": "stream",
     "text": [
      "Requirement already satisfied: seaborn in c:\\users\\rahil\\appdata\\local\\programs\\python\\python311\\lib\\site-packages (0.13.0)\n",
      "Requirement already satisfied: numpy!=1.24.0,>=1.20 in c:\\users\\rahil\\appdata\\local\\programs\\python\\python311\\lib\\site-packages (from seaborn) (1.26.2)\n",
      "Requirement already satisfied: pandas>=1.2 in c:\\users\\rahil\\appdata\\local\\programs\\python\\python311\\lib\\site-packages (from seaborn) (2.1.3)\n",
      "Requirement already satisfied: matplotlib!=3.6.1,>=3.3 in c:\\users\\rahil\\appdata\\local\\programs\\python\\python311\\lib\\site-packages (from seaborn) (3.8.2)\n",
      "Requirement already satisfied: contourpy>=1.0.1 in c:\\users\\rahil\\appdata\\local\\programs\\python\\python311\\lib\\site-packages (from matplotlib!=3.6.1,>=3.3->seaborn) (1.2.0)\n",
      "Requirement already satisfied: cycler>=0.10 in c:\\users\\rahil\\appdata\\local\\programs\\python\\python311\\lib\\site-packages (from matplotlib!=3.6.1,>=3.3->seaborn) (0.12.1)\n",
      "Requirement already satisfied: fonttools>=4.22.0 in c:\\users\\rahil\\appdata\\local\\programs\\python\\python311\\lib\\site-packages (from matplotlib!=3.6.1,>=3.3->seaborn) (4.44.3)\n",
      "Requirement already satisfied: kiwisolver>=1.3.1 in c:\\users\\rahil\\appdata\\local\\programs\\python\\python311\\lib\\site-packages (from matplotlib!=3.6.1,>=3.3->seaborn) (1.4.5)\n",
      "Requirement already satisfied: packaging>=20.0 in c:\\users\\rahil\\appdata\\roaming\\python\\python311\\site-packages (from matplotlib!=3.6.1,>=3.3->seaborn) (23.2)\n",
      "Requirement already satisfied: pillow>=8 in c:\\users\\rahil\\appdata\\local\\programs\\python\\python311\\lib\\site-packages (from matplotlib!=3.6.1,>=3.3->seaborn) (10.1.0)\n",
      "Requirement already satisfied: pyparsing>=2.3.1 in c:\\users\\rahil\\appdata\\local\\programs\\python\\python311\\lib\\site-packages (from matplotlib!=3.6.1,>=3.3->seaborn) (3.1.1)\n",
      "Requirement already satisfied: python-dateutil>=2.7 in c:\\users\\rahil\\appdata\\roaming\\python\\python311\\site-packages (from matplotlib!=3.6.1,>=3.3->seaborn) (2.8.2)\n",
      "Requirement already satisfied: pytz>=2020.1 in c:\\users\\rahil\\appdata\\local\\programs\\python\\python311\\lib\\site-packages (from pandas>=1.2->seaborn) (2023.3.post1)\n",
      "Requirement already satisfied: tzdata>=2022.1 in c:\\users\\rahil\\appdata\\local\\programs\\python\\python311\\lib\\site-packages (from pandas>=1.2->seaborn) (2023.3)\n",
      "Requirement already satisfied: six>=1.5 in c:\\users\\rahil\\appdata\\roaming\\python\\python311\\site-packages (from python-dateutil>=2.7->matplotlib!=3.6.1,>=3.3->seaborn) (1.16.0)\n",
      "Note: you may need to restart the kernel to use updated packages.\n"
     ]
    },
    {
     "name": "stderr",
     "output_type": "stream",
     "text": [
      "\n",
      "[notice] A new release of pip available: 22.3.1 -> 23.3.1\n",
      "[notice] To update, run: python.exe -m pip install --upgrade pip\n"
     ]
    },
    {
     "name": "stdout",
     "output_type": "stream",
     "text": [
      "Requirement already satisfied: scikit-learn in c:\\users\\rahil\\appdata\\local\\programs\\python\\python311\\lib\\site-packages (1.3.2)\n",
      "Requirement already satisfied: numpy<2.0,>=1.17.3 in c:\\users\\rahil\\appdata\\local\\programs\\python\\python311\\lib\\site-packages (from scikit-learn) (1.26.2)\n",
      "Requirement already satisfied: scipy>=1.5.0 in c:\\users\\rahil\\appdata\\local\\programs\\python\\python311\\lib\\site-packages (from scikit-learn) (1.11.3)\n",
      "Requirement already satisfied: joblib>=1.1.1 in c:\\users\\rahil\\appdata\\local\\programs\\python\\python311\\lib\\site-packages (from scikit-learn) (1.3.2)\n",
      "Requirement already satisfied: threadpoolctl>=2.0.0 in c:\\users\\rahil\\appdata\\local\\programs\\python\\python311\\lib\\site-packages (from scikit-learn) (3.2.0)\n",
      "Note: you may need to restart the kernel to use updated packages.\n"
     ]
    },
    {
     "name": "stderr",
     "output_type": "stream",
     "text": [
      "\n",
      "[notice] A new release of pip available: 22.3.1 -> 23.3.1\n",
      "[notice] To update, run: python.exe -m pip install --upgrade pip\n"
     ]
    },
    {
     "name": "stdout",
     "output_type": "stream",
     "text": [
      "Requirement already satisfied: tensorflow-addons in c:\\users\\rahil\\appdata\\local\\programs\\python\\python311\\lib\\site-packages (0.22.0)\n",
      "Requirement already satisfied: typeguard<3.0.0,>=2.7 in c:\\users\\rahil\\appdata\\local\\programs\\python\\python311\\lib\\site-packages (from tensorflow-addons) (2.13.3)\n",
      "Requirement already satisfied: packaging in c:\\users\\rahil\\appdata\\roaming\\python\\python311\\site-packages (from tensorflow-addons) (23.2)\n",
      "Note: you may need to restart the kernel to use updated packages.\n"
     ]
    },
    {
     "name": "stderr",
     "output_type": "stream",
     "text": [
      "\n",
      "[notice] A new release of pip available: 22.3.1 -> 23.3.1\n",
      "[notice] To update, run: python.exe -m pip install --upgrade pip\n"
     ]
    }
   ],
   "source": [
    "%pip install tensorflow\n",
    "%pip install keras\n",
    "%pip install imblearn\n",
    "%pip install matplotlib\n",
    "%pip install seaborn\n",
    "%pip install scikit-learn\n",
    "%pip install tensorflow-addons"
   ]
  },
  {
   "cell_type": "markdown",
   "metadata": {},
   "source": [
    "### <font color=purple> import libraries </font>"
   ]
  },
  {
   "cell_type": "code",
   "execution_count": 8,
   "metadata": {},
   "outputs": [],
   "source": [
    "import numpy as np\n",
    "import random\n",
    "\n",
    "#   Plotting\n",
    "import seaborn as sns\n",
    "import matplotlib.pyplot as plt\n",
    "\n",
    "\n",
    "#   DataGenerator to read images and rescale images\n",
    "from tensorflow.keras.preprocessing.image import ImageDataGenerator\n",
    "\n",
    "import tensorflow as tf\n",
    "import tensorflow_addons as tfa\n",
    "\n",
    "#   count each class samples\n",
    "from collections import Counter\n",
    "\n",
    "#   callbacks\n",
    "from tensorflow.keras.callbacks import ReduceLROnPlateau\n",
    "\n",
    "#   evaluate precison recall and f1-score of each class of model\n",
    "from sklearn.metrics import classification_report\n",
    "#   Show performance of a classification model\n",
    "from sklearn.metrics import confusion_matrix\n",
    "\n",
    "#   Different layers\n",
    "from keras.initializers import GlorotUniform\n",
    "from keras.models import Sequential\n",
    "from keras.models import Model\n",
    "from tensorflow.keras.layers import Input\n",
    "from tensorflow.keras.layers import Flatten\n",
    "from tensorflow.keras.layers import AveragePooling2D\n",
    "from tensorflow.keras.layers import Convolution2D\n",
    "from tensorflow.keras.layers import Dense\n",
    "from tensorflow.keras.layers import Dropout\n",
    "from tensorflow.keras.layers import ReLU\n",
    "from tensorflow.keras.layers import Softmax\n",
    "from tensorflow.keras.layers import GroupNormalization\n",
    "from tensorflow.keras.layers import BatchNormalization\n",
    "from tensorflow.keras.layers import Attention\n",
    "\n",
    "# split dataset to train, validation and test set\n",
    "from sklearn.model_selection import train_test_split\n",
    "\n",
    "#   callbacks\n",
    "from keras import callbacks\n",
    "\n",
    "#   SMOTETomek from imblance library\n",
    "from imblearn.combine import SMOTETomek\n",
    "\n",
    "#   Optimizer\n",
    "from tensorflow.keras.optimizers import SGD\n",
    "\n",
    "from sklearn.metrics import roc_curve, auc\n",
    "from itertools import cycle\n"
   ]
  },
  {
   "cell_type": "markdown",
   "metadata": {},
   "source": [
    "### <font color=purple> Define dataset and rescale images </font> "
   ]
  },
  {
   "cell_type": "code",
   "execution_count": 26,
   "metadata": {},
   "outputs": [
    {
     "name": "stdout",
     "output_type": "stream",
     "text": [
      "Found 6400 images belonging to 4 classes.\n",
      "Images shape :\t (6400, 176, 208, 3)\n",
      "Labels shape :\t (6400, 4)\n"
     ]
    }
   ],
   "source": [
    "## Set Path Here before running the code\n",
    "WORKING_DIRECTORY =  \"C:/Users/rahil/OneDrive/Desktop/Dataset\"\n",
    "\n",
    "##  Name of classes \n",
    "CLASSES = ['MildDemented',\n",
    "           'ModerateDemented',\n",
    "           'NonDemented',\n",
    "           'VeryMildDemented']\n",
    "\n",
    "X, y = [], []\n",
    "\n",
    "## Images rescaling\n",
    "datagen = ImageDataGenerator(rescale=1.0/255.0)\n",
    "\n",
    "#   Load images by resizing and shuffling randomly\n",
    "train_dataset = datagen.flow_from_directory(WORKING_DIRECTORY, target_size=(176, 208),batch_size=6400, shuffle=True)\n",
    "\n",
    "### Seperate Dataset from  Data Genrator\n",
    "X, y = train_dataset.next()\n",
    "\n",
    "samples_before = len(X)\n",
    "print(\"Images shape :\\t\", X.shape)\n",
    "print(\"Labels shape :\\t\", y.shape)"
   ]
  },
  {
   "cell_type": "markdown",
   "metadata": {},
   "source": [
    "### <font color=purple> Define unbalanced testing data </font> "
   ]
  },
  {
   "cell_type": "code",
   "execution_count": 32,
   "metadata": {},
   "outputs": [
    {
     "name": "stdout",
     "output_type": "stream",
     "text": [
      "Number of samples in unbalanced dataset: \t [(0, 72), (1, 8), (2, 281), (3, 215)]\n"
     ]
    }
   ],
   "source": [
    "#   reshaping the images to 1D\n",
    "X = X.reshape(-1, 176 * 208 * 3)\n",
    "\n",
    "# create unbalanced dataset and dataset used in rebalancing\n",
    "X, unbal_x, y, unbal_y = train_test_split(X, y, test_size=0.1)\n",
    "unbal_x = unbal_x.reshape(-1, 176, 208, 3)\n",
    "\n",
    "# unbalanced data\n",
    "unbalanced_samples = len(unbal_x)\n",
    "print(\"Number of samples in unbalanced dataset: \\t\", sorted(Counter(np.argmax(unbal_y, axis = 1)).items()))\n",
    "\n"
   ]
  },
  {
   "cell_type": "markdown",
   "metadata": {},
   "source": [
    "### <font color=purple> SMOTETOMEK rebalance the remaining data </font> "
   ]
  },
  {
   "cell_type": "code",
   "execution_count": 33,
   "metadata": {},
   "outputs": [
    {
     "name": "stdout",
     "output_type": "stream",
     "text": [
      "Number of samples after SMOTETomek :\t [(0, 2610), (1, 2610), (2, 2610), (3, 2610)]\n"
     ]
    }
   ],
   "source": [
    "#   Oversampling method to remove imbalance class problem\n",
    "X, y = SMOTETomek().fit_resample(X, y)\n",
    "\n",
    "#   reshape images to images size of 208, 176, 3\n",
    "X = X.reshape(-1, 176, 208, 3)\n",
    "\n",
    "samples_after = len(X)\n",
    "print(\"Number of samples after SMOTETomek :\\t\", sorted(Counter(np.argmax(y, axis=1)).items()))"
   ]
  },
  {
   "cell_type": "markdown",
   "metadata": {},
   "source": [
    "### <font color=purple> Split balanced dataset for training, validation, and testing </font> "
   ]
  },
  {
   "cell_type": "code",
   "execution_count": 34,
   "metadata": {},
   "outputs": [
    {
     "name": "stdout",
     "output_type": "stream",
     "text": [
      "Number of samples after splitting into Training, validation & test set\n",
      "\n",
      "Train     \t [(0, 1679), (1, 1654), (2, 1699), (3, 1649)]\n",
      "Validation\t [(0, 518), (1, 566), (2, 484), (3, 520)]\n",
      "Test      \t [(0, 413), (1, 390), (2, 427), (3, 441)]\n",
      "Unbalanced\t [(0, 72), (1, 8), (2, 281), (3, 215)]\n"
     ]
    }
   ],
   "source": [
    "#   20% split to validation and 80% split to train set\n",
    "X_train, x_val, y_train, y_val = train_test_split(X,y, test_size = 0.2)\n",
    "\n",
    "#   20% split to test from 80% of train and 60% remains in train set\n",
    "X_train, x_test, y_train, y_test = train_test_split(X_train,y_train, test_size = 0.2)\n",
    "\n",
    "# Number of samples after train test split\n",
    "print(\"Number of samples after splitting into Training, validation & test set\\n\")\n",
    "\n",
    "print(\"Train     \\t\",sorted(Counter(np.argmax(y_train, axis=1)).items()))\n",
    "print(\"Validation\\t\",sorted(Counter(np.argmax(y_val, axis=1)).items()))\n",
    "print(\"Test      \\t\",sorted(Counter(np.argmax(y_test, axis=1)).items()))\n",
    "print(\"Unbalanced\\t\",sorted(Counter(np.argmax(unbal_y, axis=1)).items()))\n",
    "\n",
    "del X, y"
   ]
  },
  {
   "cell_type": "markdown",
   "metadata": {},
   "source": [
    "## **<font color=orange> CNN Model: Convolutional Neural Network implementation for the classification of AD </font>**"
   ]
  },
  {
   "cell_type": "markdown",
   "metadata": {},
   "source": [
    "### <font color=Orange> Network Architecture </font> \n",
    " "
   ]
  },
  {
   "cell_type": "code",
   "execution_count": 35,
   "metadata": {},
   "outputs": [
    {
     "name": "stdout",
     "output_type": "stream",
     "text": [
      "Model: \"sequential_1\"\n",
      "_________________________________________________________________\n",
      " Layer (type)                Output Shape              Param #   \n",
      "=================================================================\n",
      " conv2d_4 (Conv2D)           (None, 176, 208, 16)      64        \n",
      "                                                                 \n",
      " group_normalization_4 (Gro  (None, 176, 208, 16)      32        \n",
      " upNormalization)                                                \n",
      "                                                                 \n",
      " re_lu_5 (ReLU)              (None, 176, 208, 16)      0         \n",
      "                                                                 \n",
      " average_pooling2d_4 (Avera  (None, 88, 104, 16)       0         \n",
      " gePooling2D)                                                    \n",
      "                                                                 \n",
      " conv2d_5 (Conv2D)           (None, 84, 100, 32)       12832     \n",
      "                                                                 \n",
      " group_normalization_5 (Gro  (None, 84, 100, 32)       64        \n",
      " upNormalization)                                                \n",
      "                                                                 \n",
      " re_lu_6 (ReLU)              (None, 84, 100, 32)       0         \n",
      "                                                                 \n",
      " average_pooling2d_5 (Avera  (None, 42, 50, 32)        0         \n",
      " gePooling2D)                                                    \n",
      "                                                                 \n",
      " conv2d_6 (Conv2D)           (None, 38, 46, 64)        51264     \n",
      "                                                                 \n",
      " group_normalization_6 (Gro  (None, 38, 46, 64)        128       \n",
      " upNormalization)                                                \n",
      "                                                                 \n",
      " re_lu_7 (ReLU)              (None, 38, 46, 64)        0         \n",
      "                                                                 \n",
      " average_pooling2d_6 (Avera  (None, 19, 23, 64)        0         \n",
      " gePooling2D)                                                    \n",
      "                                                                 \n",
      " conv2d_7 (Conv2D)           (None, 15, 19, 128)       204928    \n",
      "                                                                 \n",
      " group_normalization_7 (Gro  (None, 15, 19, 128)       256       \n",
      " upNormalization)                                                \n",
      "                                                                 \n",
      " re_lu_8 (ReLU)              (None, 15, 19, 128)       0         \n",
      "                                                                 \n",
      " average_pooling2d_7 (Avera  (None, 7, 9, 128)         0         \n",
      " gePooling2D)                                                    \n",
      "                                                                 \n",
      " dropout_2 (Dropout)         (None, 7, 9, 128)         0         \n",
      "                                                                 \n",
      " flatten_1 (Flatten)         (None, 8064)              0         \n",
      "                                                                 \n",
      " dense_2 (Dense)             (None, 256)               2064640   \n",
      "                                                                 \n",
      " re_lu_9 (ReLU)              (None, 256)               0         \n",
      "                                                                 \n",
      " dropout_3 (Dropout)         (None, 256)               0         \n",
      "                                                                 \n",
      " dense_3 (Dense)             (None, 4)                 1028      \n",
      "                                                                 \n",
      " softmax_1 (Softmax)         (None, 4)                 0         \n",
      "                                                                 \n",
      "=================================================================\n",
      "Total params: 2335236 (8.91 MB)\n",
      "Trainable params: 2335236 (8.91 MB)\n",
      "Non-trainable params: 0 (0.00 Byte)\n",
      "_________________________________________________________________\n"
     ]
    }
   ],
   "source": [
    "init = GlorotUniform\n",
    "\n",
    "CNN_model = Sequential()\n",
    "\n",
    "CNN_model.add(Input(shape=(176, 208, 3)))\n",
    "\n",
    "CNN_model.add(Convolution2D(16, 1, kernel_initializer=init))\n",
    "CNN_model.add(GroupNormalization(groups = -1))\n",
    "CNN_model.add(ReLU())\n",
    "CNN_model.add(AveragePooling2D(pool_size=(2,2)))\n",
    "\n",
    "CNN_model.add(Convolution2D(32, 5, kernel_initializer=init))\n",
    "CNN_model.add(GroupNormalization(groups = -1))\n",
    "CNN_model.add(ReLU())\n",
    "CNN_model.add(AveragePooling2D(pool_size=(2,2)))\n",
    "\n",
    "CNN_model.add(Convolution2D(64, 5, kernel_initializer=init))\n",
    "CNN_model.add(GroupNormalization(groups = -1))\n",
    "CNN_model.add(ReLU())\n",
    "CNN_model.add(AveragePooling2D(pool_size=(2,2)))\n",
    "\n",
    "CNN_model.add(Convolution2D(128, 5, kernel_initializer=init))\n",
    "CNN_model.add(GroupNormalization(groups = -1))\n",
    "CNN_model.add(ReLU())\n",
    "CNN_model.add(AveragePooling2D(pool_size=(2,2)))\n",
    "\n",
    "CNN_model.add(Dropout(0.01))\n",
    "\n",
    "CNN_model.add(Flatten())\n",
    "\n",
    "CNN_model.add(Dense(256, kernel_initializer=init))\n",
    "CNN_model.add(ReLU())\n",
    "CNN_model.add(Dropout(0.03))\n",
    "\n",
    "CNN_model.add(Dense(4, kernel_initializer=init))\n",
    "CNN_model.add(Softmax())\n",
    "\n",
    "CNN_model.summary()"
   ]
  },
  {
   "cell_type": "markdown",
   "metadata": {},
   "source": [
    "### <font color=Orange> Compile the model </font> "
   ]
  },
  {
   "cell_type": "code",
   "execution_count": 36,
   "metadata": {},
   "outputs": [],
   "source": [
    "### Model Compilation\n",
    "CNN_model.compile(\n",
    "    optimizer=SGD(learning_rate=0.01), \n",
    "    loss = tf.keras.losses.CategoricalCrossentropy(name='loss'), \n",
    "    metrics=[\n",
    "        tf.keras.metrics.CategoricalAccuracy(name='acc'), \n",
    "        tf.keras.metrics.AUC(name='auc'),\n",
    "        tfa.metrics.F1Score(num_classes=4),\n",
    "        tf.metrics.Precision(name=\"precision\"),\n",
    "        tf.metrics.Recall(name=\"recall\") ])"
   ]
  },
  {
   "cell_type": "markdown",
   "metadata": {},
   "source": [
    "### <font color=Orange> Define learning callback rate </font> "
   ]
  },
  {
   "cell_type": "code",
   "execution_count": 37,
   "metadata": {},
   "outputs": [],
   "source": [
    "# callbacks used in model to perform well\n",
    "rop_callback = ReduceLROnPlateau(monitor=\"val_loss\", patience=2)\n",
    "\n",
    "CALLBACKS = [rop_callback]"
   ]
  },
  {
   "cell_type": "markdown",
   "metadata": {},
   "source": [
    "### <font color=Orange> Training </font> "
   ]
  },
  {
   "cell_type": "code",
   "execution_count": 38,
   "metadata": {},
   "outputs": [
    {
     "name": "stdout",
     "output_type": "stream",
     "text": [
      "Epoch 1/12\n",
      "835/835 [==============================] - 84s 98ms/step - loss: 0.8369 - acc: 0.6041 - auc: 0.8683 - f1_score: 0.5939 - precision: 0.7400 - recall: 0.4514 - val_loss: 0.6023 - val_acc: 0.7236 - val_auc: 0.9328 - val_f1_score: 0.7043 - val_precision: 0.8103 - val_recall: 0.5751 - lr: 0.0100\n",
      "Epoch 2/12\n",
      "835/835 [==============================] - 81s 97ms/step - loss: 0.5884 - acc: 0.7273 - auc: 0.9352 - f1_score: 0.7243 - precision: 0.7889 - recall: 0.6498 - val_loss: 0.5688 - val_acc: 0.7344 - val_auc: 0.9390 - val_f1_score: 0.7322 - val_precision: 0.7923 - val_recall: 0.6809 - lr: 0.0100\n",
      "Epoch 3/12\n",
      "835/835 [==============================] - 81s 97ms/step - loss: 0.4400 - acc: 0.8023 - auc: 0.9645 - f1_score: 0.8014 - precision: 0.8350 - recall: 0.7674 - val_loss: 0.3025 - val_acc: 0.8804 - val_auc: 0.9849 - val_f1_score: 0.8723 - val_precision: 0.8966 - val_recall: 0.8594 - lr: 0.0100\n",
      "Epoch 4/12\n",
      "835/835 [==============================] - 81s 97ms/step - loss: 0.2977 - acc: 0.8755 - auc: 0.9838 - f1_score: 0.8753 - precision: 0.8874 - recall: 0.8612 - val_loss: 0.3040 - val_acc: 0.8660 - val_auc: 0.9828 - val_f1_score: 0.8551 - val_precision: 0.8738 - val_recall: 0.8570 - lr: 0.0100\n",
      "Epoch 5/12\n",
      "835/835 [==============================] - 81s 97ms/step - loss: 0.2045 - acc: 0.9192 - auc: 0.9923 - f1_score: 0.9192 - precision: 0.9234 - recall: 0.9144 - val_loss: 0.1616 - val_acc: 0.9363 - val_auc: 0.9951 - val_f1_score: 0.9344 - val_precision: 0.9410 - val_recall: 0.9297 - lr: 0.0100\n",
      "Epoch 6/12\n",
      "835/835 [==============================] - 81s 97ms/step - loss: 0.1233 - acc: 0.9538 - auc: 0.9971 - f1_score: 0.9539 - precision: 0.9562 - recall: 0.9519 - val_loss: 0.2766 - val_acc: 0.8858 - val_auc: 0.9852 - val_f1_score: 0.8811 - val_precision: 0.8888 - val_recall: 0.8834 - lr: 0.0100\n",
      "Epoch 7/12\n",
      "835/835 [==============================] - 82s 98ms/step - loss: 0.1662 - acc: 0.9490 - auc: 0.9944 - f1_score: 0.9491 - precision: 0.9527 - recall: 0.9453 - val_loss: 0.1376 - val_acc: 0.9411 - val_auc: 0.9964 - val_f1_score: 0.9400 - val_precision: 0.9433 - val_recall: 0.9405 - lr: 0.0100\n",
      "Epoch 8/12\n",
      "835/835 [==============================] - 83s 100ms/step - loss: 0.0573 - acc: 0.9819 - auc: 0.9995 - f1_score: 0.9819 - precision: 0.9829 - recall: 0.9810 - val_loss: 0.1234 - val_acc: 0.9651 - val_auc: 0.9958 - val_f1_score: 0.9642 - val_precision: 0.9679 - val_recall: 0.9609 - lr: 0.0100\n",
      "Epoch 9/12\n",
      "835/835 [==============================] - 82s 99ms/step - loss: 0.0808 - acc: 0.9816 - auc: 0.9982 - f1_score: 0.9816 - precision: 0.9836 - recall: 0.9798 - val_loss: 0.0801 - val_acc: 0.9796 - val_auc: 0.9975 - val_f1_score: 0.9785 - val_precision: 0.9795 - val_recall: 0.9772 - lr: 0.0100\n",
      "Epoch 10/12\n",
      "835/835 [==============================] - 82s 98ms/step - loss: 0.0323 - acc: 0.9903 - auc: 0.9998 - f1_score: 0.9903 - precision: 0.9906 - recall: 0.9901 - val_loss: 0.0869 - val_acc: 0.9742 - val_auc: 0.9974 - val_f1_score: 0.9730 - val_precision: 0.9753 - val_recall: 0.9730 - lr: 0.0100\n",
      "Epoch 11/12\n",
      "835/835 [==============================] - 82s 98ms/step - loss: 0.0166 - acc: 0.9975 - auc: 0.9996 - f1_score: 0.9975 - precision: 0.9975 - recall: 0.9972 - val_loss: 0.0779 - val_acc: 0.9748 - val_auc: 0.9972 - val_f1_score: 0.9736 - val_precision: 0.9759 - val_recall: 0.9748 - lr: 0.0100\n",
      "Epoch 12/12\n",
      "835/835 [==============================] - 83s 100ms/step - loss: 0.0055 - acc: 0.9997 - auc: 0.9999 - f1_score: 0.9997 - precision: 0.9997 - recall: 0.9997 - val_loss: 0.0517 - val_acc: 0.9874 - val_auc: 0.9977 - val_f1_score: 0.9870 - val_precision: 0.9874 - val_recall: 0.9874 - lr: 0.0100\n"
     ]
    }
   ],
   "source": [
    "#   declare to run on small gpu create batch sizes of images\n",
    "valAug = ImageDataGenerator()\n",
    "\n",
    "#   defining batch size\n",
    "batch_size = 8\n",
    "\n",
    "history = CNN_model.fit(valAug.flow(X_train, y_train, batch_size=batch_size, shuffle = True),\n",
    "steps_per_epoch=len(X_train) // batch_size,\n",
    "validation_data=valAug.flow(x_val, y_val, batch_size=batch_size, shuffle = True),\n",
    "validation_steps=len(x_test) // batch_size,\n",
    "epochs= 12,\n",
    "batch_size=batch_size,\n",
    "callbacks = CALLBACKS\n",
    ")"
   ]
  },
  {
   "cell_type": "markdown",
   "metadata": {},
   "source": [
    "### <font color=Orange> Evaluation using balanced test data </font> "
   ]
  },
  {
   "cell_type": "code",
   "execution_count": 39,
   "metadata": {},
   "outputs": [
    {
     "name": "stdout",
     "output_type": "stream",
     "text": [
      "53/53 [==============================] - 8s 151ms/step - loss: 0.0493 - acc: 0.9850 - auc: 0.9989 - f1_score: 0.9855 - precision: 0.9850 - recall: 0.9838\n",
      "\n",
      "\n",
      "Testing Loss : \t\t 0.049281\n",
      "Testing Accuracy : \t 98.503888 %\n",
      "Testing AUC : \t\t 99.889153 %\n",
      "Testing F1-Score : \t 98.551488 %\n",
      "Testing Precision : \t 98.502100 %\n",
      "Testing Recall : \t 98.384202 %\n"
     ]
    }
   ],
   "source": [
    "### Evaluate Model\n",
    "test_scores = CNN_model.evaluate(x_test, y_test, batch_size = 32)\n",
    "\n",
    "\n",
    "print(\"\\n\\nTesting Loss : \\t\\t {0:0.6f}\".format(test_scores[0] ))\n",
    "print(\"Testing Accuracy : \\t {0:0.6f} %\".format(test_scores[1] * 100))\n",
    "print(\"Testing AUC : \\t\\t {0:0.6f} %\".format(test_scores[2] * 100))\n",
    "print(\"Testing F1-Score : \\t {0:0.6f} %\".format(((test_scores[3][0] + test_scores[3][1] + test_scores[3][2] + test_scores[3][3])/4) * 100))\n",
    "print(\"Testing Precision : \\t {0:0.6f} %\".format(test_scores[4] * 100))\n",
    "print(\"Testing Recall : \\t {0:0.6f} %\".format(test_scores[5] * 100))"
   ]
  },
  {
   "cell_type": "code",
   "execution_count": 40,
   "metadata": {},
   "outputs": [
    {
     "name": "stdout",
     "output_type": "stream",
     "text": [
      "53/53 [==============================] - 8s 140ms/step\n",
      "                  precision    recall  f1-score   support\n",
      "\n",
      "    MildDemented       0.99      1.00      0.99       413\n",
      "ModerateDemented       1.00      1.00      1.00       390\n",
      "     NonDemented       0.97      0.98      0.97       427\n",
      "VeryMildDemented       0.98      0.97      0.97       441\n",
      "\n",
      "       micro avg       0.99      0.99      0.99      1671\n",
      "       macro avg       0.99      0.99      0.99      1671\n",
      "    weighted avg       0.99      0.99      0.99      1671\n",
      "     samples avg       0.99      0.99      0.99      1671\n",
      "\n"
     ]
    }
   ],
   "source": [
    "pred_labels = CNN_model.predict(x_test, batch_size=32)\n",
    "\n",
    "def roundoff(arr):\n",
    "    arr[np.argwhere(arr != arr.max())] = 0\n",
    "    arr[np.argwhere(arr == arr.max())] = 1\n",
    "    return arr\n",
    "\n",
    "for labels in pred_labels:\n",
    "    labels = roundoff(labels)\n",
    "\n",
    "print(classification_report(y_test, pred_labels, target_names=CLASSES))"
   ]
  },
  {
   "cell_type": "code",
   "execution_count": 41,
   "metadata": {},
   "outputs": [
    {
     "data": {
      "image/png": "[encoded data removed]",
      "text/plain": [
       "<Figure size 800x640 with 2 Axes>"
      ]
     },
     "metadata": {},
     "output_type": "display_data"
    }
   ],
   "source": [
    "pred_ls = np.argmax(pred_labels, axis=1)\n",
    "test_ls = np.argmax(y_test, axis=1)\n",
    "\n",
    "conf_arr = confusion_matrix(test_ls, pred_ls)\n",
    "\n",
    "plt.figure(figsize=(10, 8), dpi=80, facecolor='w', edgecolor='k')\n",
    "\n",
    "ax = sns.heatmap(conf_arr, cmap='Greens', annot=True, fmt='d', xticklabels= CLASSES, yticklabels=CLASSES)\n",
    "\n",
    "plt.title('Confusion Matrix of Model', fontweight='bold', fontsize=14.0)\n",
    "plt.xlabel('Predictions', fontweight='bold', fontsize=13)\n",
    "plt.ylabel('Ground Truth', fontweight='bold', fontsize=13)\n",
    "plt.tight_layout()\n",
    "plt.show(ax)"
   ]
  },
  {
   "cell_type": "markdown",
   "metadata": {},
   "source": [
    "### <font color=Orange> Evaluation using unbalanced test data </font> "
   ]
  },
  {
   "cell_type": "code",
   "execution_count": 42,
   "metadata": {},
   "outputs": [
    {
     "name": "stdout",
     "output_type": "stream",
     "text": [
      "18/18 [==============================] - 3s 89ms/step - loss: 0.0985 - acc: 0.9670 - auc: 0.9962 - f1_score: 0.9714 - precision: 0.9686 - recall: 0.9653\n",
      "\n",
      "\n",
      "Testing Loss : \t\t 0.098508\n",
      "Testing Accuracy : \t 96.701390 %\n",
      "Testing AUC : \t\t 99.620926 %\n",
      "Testing F1-Score : \t 97.140324 %\n",
      "Testing Precision : \t 96.864110 %\n",
      "Testing Recall : \t 96.527779 %\n"
     ]
    }
   ],
   "source": [
    "## evaluation with unbalanced data\n",
    "unbal_scores = CNN_model.evaluate(unbal_x, unbal_y, batch_size = 32)\n",
    "\n",
    "\n",
    "print(\"\\n\\nTesting Loss : \\t\\t {0:0.6f}\".format(unbal_scores[0] ))\n",
    "print(\"Testing Accuracy : \\t {0:0.6f} %\".format(unbal_scores[1] * 100))\n",
    "print(\"Testing AUC : \\t\\t {0:0.6f} %\".format(unbal_scores[2] * 100))\n",
    "print(\"Testing F1-Score : \\t {0:0.6f} %\".format(((unbal_scores[3][0] + unbal_scores[3][1] + unbal_scores[3][2] + unbal_scores[3][3])/4) * 100))\n",
    "print(\"Testing Precision : \\t {0:0.6f} %\".format(unbal_scores[4] * 100))\n",
    "print(\"Testing Recall : \\t {0:0.6f} %\".format(unbal_scores[5] * 100))"
   ]
  },
  {
   "cell_type": "code",
   "execution_count": 43,
   "metadata": {},
   "outputs": [
    {
     "name": "stdout",
     "output_type": "stream",
     "text": [
      "18/18 [==============================] - 3s 144ms/step\n",
      "                  precision    recall  f1-score   support\n",
      "\n",
      "    MildDemented       0.96      0.94      0.95        72\n",
      "ModerateDemented       1.00      1.00      1.00         8\n",
      "     NonDemented       0.98      0.98      0.98       281\n",
      "VeryMildDemented       0.95      0.96      0.96       215\n",
      "\n",
      "       micro avg       0.97      0.97      0.97       576\n",
      "       macro avg       0.97      0.97      0.97       576\n",
      "    weighted avg       0.97      0.97      0.97       576\n",
      "     samples avg       0.97      0.97      0.97       576\n",
      "\n"
     ]
    }
   ],
   "source": [
    "pred_labels_unbal = CNN_model.predict(unbal_x, batch_size=32)\n",
    "\n",
    "def roundoff(arr):\n",
    "    arr[np.argwhere(arr != arr.max())] = 0\n",
    "    arr[np.argwhere(arr == arr.max())] = 1\n",
    "    return arr\n",
    "\n",
    "for labels_unbal in pred_labels_unbal:\n",
    "    labels_unbal = roundoff(labels_unbal)\n",
    "\n",
    "print(classification_report(unbal_y, pred_labels_unbal, target_names=CLASSES))"
   ]
  },
  {
   "cell_type": "code",
   "execution_count": 44,
   "metadata": {},
   "outputs": [
    {
     "data": {
      "image/png": "[encoded data removed]",
      "text/plain": [
       "<Figure size 800x640 with 2 Axes>"
      ]
     },
     "metadata": {},
     "output_type": "display_data"
    }
   ],
   "source": [
    "pred_ls_unbal = np.argmax(pred_labels_unbal, axis=1)\n",
    "test_ls_unbal = np.argmax(unbal_y, axis=1)\n",
    "\n",
    "conf_arr_unbal = confusion_matrix(test_ls_unbal, pred_ls_unbal)\n",
    "\n",
    "plt.figure(figsize=(10, 8), dpi=80, facecolor='w', edgecolor='k')\n",
    "\n",
    "ax = sns.heatmap(conf_arr_unbal, cmap='Greens', annot=True, fmt='d', xticklabels= CLASSES, yticklabels=CLASSES)\n",
    "\n",
    "plt.title('Confusion Matrix of Model', fontweight='bold', fontsize=14.0)\n",
    "plt.xlabel('Predictions', fontweight='bold', fontsize=13)\n",
    "plt.ylabel('Ground Truth', fontweight='bold', fontsize=13)\n",
    "plt.tight_layout()\n",
    "plt.show(ax)"
   ]
  }
 ],
 "metadata": {
  "kernelspec": {
   "display_name": "Python 3",
   "language": "python",
   "name": "python3"
  },
  "language_info": {
   "codemirror_mode": {
    "name": "ipython",
    "version": 3
   },
   "file_extension": ".py",
   "mimetype": "text/x-python",
   "name": "python",
   "nbconvert_exporter": "python",
   "pygments_lexer": "ipython3",
   "version": "3.11.1"
  }
 },
 "nbformat": 4,
 "nbformat_minor": 2
}
