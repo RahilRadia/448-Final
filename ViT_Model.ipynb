{
 "cells": [
  {
   "cell_type": "code",
   "execution_count": 1,
   "metadata": {},
   "outputs": [
    {
     "name": "stdout",
     "output_type": "stream",
     "text": [
      "Requirement already satisfied: tensorflow in c:\\users\\rahil\\appdata\\local\\programs\\python\\python311\\lib\\site-packages (2.15.0)\n",
      "Requirement already satisfied: tensorflow-intel==2.15.0 in c:\\users\\rahil\\appdata\\local\\programs\\python\\python311\\lib\\site-packages (from tensorflow) (2.15.0)\n",
      "Requirement already satisfied: absl-py>=1.0.0 in c:\\users\\rahil\\appdata\\local\\programs\\python\\python311\\lib\\site-packages (from tensorflow-intel==2.15.0->tensorflow) (2.0.0)\n",
      "Requirement already satisfied: astunparse>=1.6.0 in c:\\users\\rahil\\appdata\\local\\programs\\python\\python311\\lib\\site-packages (from tensorflow-intel==2.15.0->tensorflow) (1.6.3)\n",
      "Requirement already satisfied: flatbuffers>=23.5.26 in c:\\users\\rahil\\appdata\\local\\programs\\python\\python311\\lib\\site-packages (from tensorflow-intel==2.15.0->tensorflow) (23.5.26)\n",
      "Requirement already satisfied: gast!=0.5.0,!=0.5.1,!=0.5.2,>=0.2.1 in c:\\users\\rahil\\appdata\\local\\programs\\python\\python311\\lib\\site-packages (from tensorflow-intel==2.15.0->tensorflow) (0.5.4)\n",
      "Requirement already satisfied: google-pasta>=0.1.1 in c:\\users\\rahil\\appdata\\local\\programs\\python\\python311\\lib\\site-packages (from tensorflow-intel==2.15.0->tensorflow) (0.2.0)\n",
      "Requirement already satisfied: h5py>=2.9.0 in c:\\users\\rahil\\appdata\\local\\programs\\python\\python311\\lib\\site-packages (from tensorflow-intel==2.15.0->tensorflow) (3.10.0)\n",
      "Requirement already satisfied: libclang>=13.0.0 in c:\\users\\rahil\\appdata\\local\\programs\\python\\python311\\lib\\site-packages (from tensorflow-intel==2.15.0->tensorflow) (16.0.6)\n",
      "Requirement already satisfied: ml-dtypes~=0.2.0 in c:\\users\\rahil\\appdata\\local\\programs\\python\\python311\\lib\\site-packages (from tensorflow-intel==2.15.0->tensorflow) (0.2.0)\n",
      "Requirement already satisfied: numpy<2.0.0,>=1.23.5 in c:\\users\\rahil\\appdata\\local\\programs\\python\\python311\\lib\\site-packages (from tensorflow-intel==2.15.0->tensorflow) (1.26.2)\n",
      "Requirement already satisfied: opt-einsum>=2.3.2 in c:\\users\\rahil\\appdata\\local\\programs\\python\\python311\\lib\\site-packages (from tensorflow-intel==2.15.0->tensorflow) (3.3.0)\n",
      "Requirement already satisfied: packaging in c:\\users\\rahil\\appdata\\roaming\\python\\python311\\site-packages (from tensorflow-intel==2.15.0->tensorflow) (23.2)\n",
      "Requirement already satisfied: protobuf!=4.21.0,!=4.21.1,!=4.21.2,!=4.21.3,!=4.21.4,!=4.21.5,<5.0.0dev,>=3.20.3 in c:\\users\\rahil\\appdata\\local\\programs\\python\\python311\\lib\\site-packages (from tensorflow-intel==2.15.0->tensorflow) (4.23.4)\n",
      "Requirement already satisfied: setuptools in c:\\users\\rahil\\appdata\\local\\programs\\python\\python311\\lib\\site-packages (from tensorflow-intel==2.15.0->tensorflow) (65.5.0)\n",
      "Requirement already satisfied: six>=1.12.0 in c:\\users\\rahil\\appdata\\roaming\\python\\python311\\site-packages (from tensorflow-intel==2.15.0->tensorflow) (1.16.0)\n",
      "Requirement already satisfied: termcolor>=1.1.0 in c:\\users\\rahil\\appdata\\local\\programs\\python\\python311\\lib\\site-packages (from tensorflow-intel==2.15.0->tensorflow) (2.3.0)\n",
      "Requirement already satisfied: typing-extensions>=3.6.6 in c:\\users\\rahil\\appdata\\local\\programs\\python\\python311\\lib\\site-packages (from tensorflow-intel==2.15.0->tensorflow) (4.8.0)\n",
      "Requirement already satisfied: wrapt<1.15,>=1.11.0 in c:\\users\\rahil\\appdata\\local\\programs\\python\\python311\\lib\\site-packages (from tensorflow-intel==2.15.0->tensorflow) (1.14.1)\n",
      "Requirement already satisfied: tensorflow-io-gcs-filesystem>=0.23.1 in c:\\users\\rahil\\appdata\\local\\programs\\python\\python311\\lib\\site-packages (from tensorflow-intel==2.15.0->tensorflow) (0.31.0)\n",
      "Requirement already satisfied: grpcio<2.0,>=1.24.3 in c:\\users\\rahil\\appdata\\local\\programs\\python\\python311\\lib\\site-packages (from tensorflow-intel==2.15.0->tensorflow) (1.59.3)\n",
      "Requirement already satisfied: tensorboard<2.16,>=2.15 in c:\\users\\rahil\\appdata\\local\\programs\\python\\python311\\lib\\site-packages (from tensorflow-intel==2.15.0->tensorflow) (2.15.1)\n",
      "Requirement already satisfied: tensorflow-estimator<2.16,>=2.15.0 in c:\\users\\rahil\\appdata\\local\\programs\\python\\python311\\lib\\site-packages (from tensorflow-intel==2.15.0->tensorflow) (2.15.0)\n",
      "Requirement already satisfied: keras<2.16,>=2.15.0 in c:\\users\\rahil\\appdata\\local\\programs\\python\\python311\\lib\\site-packages (from tensorflow-intel==2.15.0->tensorflow) (2.15.0)\n",
      "Requirement already satisfied: wheel<1.0,>=0.23.0 in c:\\users\\rahil\\appdata\\local\\programs\\python\\python311\\lib\\site-packages (from astunparse>=1.6.0->tensorflow-intel==2.15.0->tensorflow) (0.41.3)\n",
      "Requirement already satisfied: google-auth<3,>=1.6.3 in c:\\users\\rahil\\appdata\\local\\programs\\python\\python311\\lib\\site-packages (from tensorboard<2.16,>=2.15->tensorflow-intel==2.15.0->tensorflow) (2.23.4)\n",
      "Requirement already satisfied: google-auth-oauthlib<2,>=0.5 in c:\\users\\rahil\\appdata\\local\\programs\\python\\python311\\lib\\site-packages (from tensorboard<2.16,>=2.15->tensorflow-intel==2.15.0->tensorflow) (1.1.0)\n",
      "Requirement already satisfied: markdown>=2.6.8 in c:\\users\\rahil\\appdata\\local\\programs\\python\\python311\\lib\\site-packages (from tensorboard<2.16,>=2.15->tensorflow-intel==2.15.0->tensorflow) (3.5.1)\n",
      "Requirement already satisfied: requests<3,>=2.21.0 in c:\\users\\rahil\\appdata\\local\\programs\\python\\python311\\lib\\site-packages (from tensorboard<2.16,>=2.15->tensorflow-intel==2.15.0->tensorflow) (2.31.0)\n",
      "Requirement already satisfied: tensorboard-data-server<0.8.0,>=0.7.0 in c:\\users\\rahil\\appdata\\local\\programs\\python\\python311\\lib\\site-packages (from tensorboard<2.16,>=2.15->tensorflow-intel==2.15.0->tensorflow) (0.7.2)\n",
      "Requirement already satisfied: werkzeug>=1.0.1 in c:\\users\\rahil\\appdata\\local\\programs\\python\\python311\\lib\\site-packages (from tensorboard<2.16,>=2.15->tensorflow-intel==2.15.0->tensorflow) (3.0.1)\n",
      "Requirement already satisfied: cachetools<6.0,>=2.0.0 in c:\\users\\rahil\\appdata\\local\\programs\\python\\python311\\lib\\site-packages (from google-auth<3,>=1.6.3->tensorboard<2.16,>=2.15->tensorflow-intel==2.15.0->tensorflow) (5.3.2)\n",
      "Requirement already satisfied: pyasn1-modules>=0.2.1 in c:\\users\\rahil\\appdata\\local\\programs\\python\\python311\\lib\\site-packages (from google-auth<3,>=1.6.3->tensorboard<2.16,>=2.15->tensorflow-intel==2.15.0->tensorflow) (0.3.0)\n",
      "Requirement already satisfied: rsa<5,>=3.1.4 in c:\\users\\rahil\\appdata\\local\\programs\\python\\python311\\lib\\site-packages (from google-auth<3,>=1.6.3->tensorboard<2.16,>=2.15->tensorflow-intel==2.15.0->tensorflow) (4.9)\n",
      "Requirement already satisfied: requests-oauthlib>=0.7.0 in c:\\users\\rahil\\appdata\\local\\programs\\python\\python311\\lib\\site-packages (from google-auth-oauthlib<2,>=0.5->tensorboard<2.16,>=2.15->tensorflow-intel==2.15.0->tensorflow) (1.3.1)\n",
      "Requirement already satisfied: charset-normalizer<4,>=2 in c:\\users\\rahil\\appdata\\local\\programs\\python\\python311\\lib\\site-packages (from requests<3,>=2.21.0->tensorboard<2.16,>=2.15->tensorflow-intel==2.15.0->tensorflow) (3.3.2)\n",
      "Requirement already satisfied: idna<4,>=2.5 in c:\\users\\rahil\\appdata\\local\\programs\\python\\python311\\lib\\site-packages (from requests<3,>=2.21.0->tensorboard<2.16,>=2.15->tensorflow-intel==2.15.0->tensorflow) (3.4)\n",
      "Requirement already satisfied: urllib3<3,>=1.21.1 in c:\\users\\rahil\\appdata\\local\\programs\\python\\python311\\lib\\site-packages (from requests<3,>=2.21.0->tensorboard<2.16,>=2.15->tensorflow-intel==2.15.0->tensorflow) (2.1.0)\n",
      "Requirement already satisfied: certifi>=2017.4.17 in c:\\users\\rahil\\appdata\\local\\programs\\python\\python311\\lib\\site-packages (from requests<3,>=2.21.0->tensorboard<2.16,>=2.15->tensorflow-intel==2.15.0->tensorflow) (2023.7.22)\n",
      "Requirement already satisfied: MarkupSafe>=2.1.1 in c:\\users\\rahil\\appdata\\local\\programs\\python\\python311\\lib\\site-packages (from werkzeug>=1.0.1->tensorboard<2.16,>=2.15->tensorflow-intel==2.15.0->tensorflow) (2.1.3)\n",
      "Requirement already satisfied: pyasn1<0.6.0,>=0.4.6 in c:\\users\\rahil\\appdata\\local\\programs\\python\\python311\\lib\\site-packages (from pyasn1-modules>=0.2.1->google-auth<3,>=1.6.3->tensorboard<2.16,>=2.15->tensorflow-intel==2.15.0->tensorflow) (0.5.0)\n",
      "Requirement already satisfied: oauthlib>=3.0.0 in c:\\users\\rahil\\appdata\\local\\programs\\python\\python311\\lib\\site-packages (from requests-oauthlib>=0.7.0->google-auth-oauthlib<2,>=0.5->tensorboard<2.16,>=2.15->tensorflow-intel==2.15.0->tensorflow) (3.2.2)\n",
      "Note: you may need to restart the kernel to use updated packages.\n"
     ]
    },
    {
     "name": "stderr",
     "output_type": "stream",
     "text": [
      "\n",
      "[notice] A new release of pip available: 22.3.1 -> 23.3.1\n",
      "[notice] To update, run: python.exe -m pip install --upgrade pip\n"
     ]
    },
    {
     "name": "stdout",
     "output_type": "stream",
     "text": [
      "Requirement already satisfied: keras in c:\\users\\rahil\\appdata\\local\\programs\\python\\python311\\lib\\site-packages (2.15.0)\n",
      "Note: you may need to restart the kernel to use updated packages.\n"
     ]
    },
    {
     "name": "stderr",
     "output_type": "stream",
     "text": [
      "\n",
      "[notice] A new release of pip available: 22.3.1 -> 23.3.1\n",
      "[notice] To update, run: python.exe -m pip install --upgrade pip\n"
     ]
    },
    {
     "name": "stdout",
     "output_type": "stream",
     "text": [
      "Requirement already satisfied: imblearn in c:\\users\\rahil\\appdata\\local\\programs\\python\\python311\\lib\\site-packages (0.0)\n",
      "Requirement already satisfied: imbalanced-learn in c:\\users\\rahil\\appdata\\local\\programs\\python\\python311\\lib\\site-packages (from imblearn) (0.11.0)\n",
      "Requirement already satisfied: numpy>=1.17.3 in c:\\users\\rahil\\appdata\\local\\programs\\python\\python311\\lib\\site-packages (from imbalanced-learn->imblearn) (1.26.2)\n",
      "Requirement already satisfied: scipy>=1.5.0 in c:\\users\\rahil\\appdata\\local\\programs\\python\\python311\\lib\\site-packages (from imbalanced-learn->imblearn) (1.11.3)\n",
      "Requirement already satisfied: scikit-learn>=1.0.2 in c:\\users\\rahil\\appdata\\local\\programs\\python\\python311\\lib\\site-packages (from imbalanced-learn->imblearn) (1.3.2)\n",
      "Requirement already satisfied: joblib>=1.1.1 in c:\\users\\rahil\\appdata\\local\\programs\\python\\python311\\lib\\site-packages (from imbalanced-learn->imblearn) (1.3.2)\n",
      "Requirement already satisfied: threadpoolctl>=2.0.0 in c:\\users\\rahil\\appdata\\local\\programs\\python\\python311\\lib\\site-packages (from imbalanced-learn->imblearn) (3.2.0)\n",
      "Note: you may need to restart the kernel to use updated packages.\n"
     ]
    },
    {
     "name": "stderr",
     "output_type": "stream",
     "text": [
      "\n",
      "[notice] A new release of pip available: 22.3.1 -> 23.3.1\n",
      "[notice] To update, run: python.exe -m pip install --upgrade pip\n"
     ]
    },
    {
     "name": "stdout",
     "output_type": "stream",
     "text": [
      "Requirement already satisfied: matplotlib in c:\\users\\rahil\\appdata\\local\\programs\\python\\python311\\lib\\site-packages (3.8.2)\n",
      "Requirement already satisfied: contourpy>=1.0.1 in c:\\users\\rahil\\appdata\\local\\programs\\python\\python311\\lib\\site-packages (from matplotlib) (1.2.0)\n",
      "Requirement already satisfied: cycler>=0.10 in c:\\users\\rahil\\appdata\\local\\programs\\python\\python311\\lib\\site-packages (from matplotlib) (0.12.1)\n",
      "Requirement already satisfied: fonttools>=4.22.0 in c:\\users\\rahil\\appdata\\local\\programs\\python\\python311\\lib\\site-packages (from matplotlib) (4.44.3)\n",
      "Requirement already satisfied: kiwisolver>=1.3.1 in c:\\users\\rahil\\appdata\\local\\programs\\python\\python311\\lib\\site-packages (from matplotlib) (1.4.5)\n",
      "Requirement already satisfied: numpy<2,>=1.21 in c:\\users\\rahil\\appdata\\local\\programs\\python\\python311\\lib\\site-packages (from matplotlib) (1.26.2)\n",
      "Requirement already satisfied: packaging>=20.0 in c:\\users\\rahil\\appdata\\roaming\\python\\python311\\site-packages (from matplotlib) (23.2)\n",
      "Requirement already satisfied: pillow>=8 in c:\\users\\rahil\\appdata\\local\\programs\\python\\python311\\lib\\site-packages (from matplotlib) (10.1.0)\n",
      "Requirement already satisfied: pyparsing>=2.3.1 in c:\\users\\rahil\\appdata\\local\\programs\\python\\python311\\lib\\site-packages (from matplotlib) (3.1.1)\n",
      "Requirement already satisfied: python-dateutil>=2.7 in c:\\users\\rahil\\appdata\\roaming\\python\\python311\\site-packages (from matplotlib) (2.8.2)\n",
      "Requirement already satisfied: six>=1.5 in c:\\users\\rahil\\appdata\\roaming\\python\\python311\\site-packages (from python-dateutil>=2.7->matplotlib) (1.16.0)\n",
      "Note: you may need to restart the kernel to use updated packages.\n"
     ]
    },
    {
     "name": "stderr",
     "output_type": "stream",
     "text": [
      "\n",
      "[notice] A new release of pip available: 22.3.1 -> 23.3.1\n",
      "[notice] To update, run: python.exe -m pip install --upgrade pip\n"
     ]
    },
    {
     "name": "stdout",
     "output_type": "stream",
     "text": [
      "Requirement already satisfied: seaborn in c:\\users\\rahil\\appdata\\local\\programs\\python\\python311\\lib\\site-packages (0.13.0)\n",
      "Requirement already satisfied: numpy!=1.24.0,>=1.20 in c:\\users\\rahil\\appdata\\local\\programs\\python\\python311\\lib\\site-packages (from seaborn) (1.26.2)\n",
      "Requirement already satisfied: pandas>=1.2 in c:\\users\\rahil\\appdata\\local\\programs\\python\\python311\\lib\\site-packages (from seaborn) (2.1.3)\n",
      "Requirement already satisfied: matplotlib!=3.6.1,>=3.3 in c:\\users\\rahil\\appdata\\local\\programs\\python\\python311\\lib\\site-packages (from seaborn) (3.8.2)\n",
      "Requirement already satisfied: contourpy>=1.0.1 in c:\\users\\rahil\\appdata\\local\\programs\\python\\python311\\lib\\site-packages (from matplotlib!=3.6.1,>=3.3->seaborn) (1.2.0)\n",
      "Requirement already satisfied: cycler>=0.10 in c:\\users\\rahil\\appdata\\local\\programs\\python\\python311\\lib\\site-packages (from matplotlib!=3.6.1,>=3.3->seaborn) (0.12.1)\n",
      "Requirement already satisfied: fonttools>=4.22.0 in c:\\users\\rahil\\appdata\\local\\programs\\python\\python311\\lib\\site-packages (from matplotlib!=3.6.1,>=3.3->seaborn) (4.44.3)\n",
      "Requirement already satisfied: kiwisolver>=1.3.1 in c:\\users\\rahil\\appdata\\local\\programs\\python\\python311\\lib\\site-packages (from matplotlib!=3.6.1,>=3.3->seaborn) (1.4.5)\n",
      "Requirement already satisfied: packaging>=20.0 in c:\\users\\rahil\\appdata\\roaming\\python\\python311\\site-packages (from matplotlib!=3.6.1,>=3.3->seaborn) (23.2)\n",
      "Requirement already satisfied: pillow>=8 in c:\\users\\rahil\\appdata\\local\\programs\\python\\python311\\lib\\site-packages (from matplotlib!=3.6.1,>=3.3->seaborn) (10.1.0)\n",
      "Requirement already satisfied: pyparsing>=2.3.1 in c:\\users\\rahil\\appdata\\local\\programs\\python\\python311\\lib\\site-packages (from matplotlib!=3.6.1,>=3.3->seaborn) (3.1.1)\n",
      "Requirement already satisfied: python-dateutil>=2.7 in c:\\users\\rahil\\appdata\\roaming\\python\\python311\\site-packages (from matplotlib!=3.6.1,>=3.3->seaborn) (2.8.2)\n",
      "Requirement already satisfied: pytz>=2020.1 in c:\\users\\rahil\\appdata\\local\\programs\\python\\python311\\lib\\site-packages (from pandas>=1.2->seaborn) (2023.3.post1)\n",
      "Requirement already satisfied: tzdata>=2022.1 in c:\\users\\rahil\\appdata\\local\\programs\\python\\python311\\lib\\site-packages (from pandas>=1.2->seaborn) (2023.3)\n",
      "Requirement already satisfied: six>=1.5 in c:\\users\\rahil\\appdata\\roaming\\python\\python311\\site-packages (from python-dateutil>=2.7->matplotlib!=3.6.1,>=3.3->seaborn) (1.16.0)\n",
      "Note: you may need to restart the kernel to use updated packages.\n"
     ]
    },
    {
     "name": "stderr",
     "output_type": "stream",
     "text": [
      "\n",
      "[notice] A new release of pip available: 22.3.1 -> 23.3.1\n",
      "[notice] To update, run: python.exe -m pip install --upgrade pip\n"
     ]
    },
    {
     "name": "stdout",
     "output_type": "stream",
     "text": [
      "Requirement already satisfied: scikit-learn in c:\\users\\rahil\\appdata\\local\\programs\\python\\python311\\lib\\site-packages (1.3.2)\n",
      "Requirement already satisfied: numpy<2.0,>=1.17.3 in c:\\users\\rahil\\appdata\\local\\programs\\python\\python311\\lib\\site-packages (from scikit-learn) (1.26.2)\n",
      "Requirement already satisfied: scipy>=1.5.0 in c:\\users\\rahil\\appdata\\local\\programs\\python\\python311\\lib\\site-packages (from scikit-learn) (1.11.3)\n",
      "Requirement already satisfied: joblib>=1.1.1 in c:\\users\\rahil\\appdata\\local\\programs\\python\\python311\\lib\\site-packages (from scikit-learn) (1.3.2)\n",
      "Requirement already satisfied: threadpoolctl>=2.0.0 in c:\\users\\rahil\\appdata\\local\\programs\\python\\python311\\lib\\site-packages (from scikit-learn) (3.2.0)\n",
      "Note: you may need to restart the kernel to use updated packages.\n"
     ]
    },
    {
     "name": "stderr",
     "output_type": "stream",
     "text": [
      "\n",
      "[notice] A new release of pip available: 22.3.1 -> 23.3.1\n",
      "[notice] To update, run: python.exe -m pip install --upgrade pip\n"
     ]
    },
    {
     "name": "stdout",
     "output_type": "stream",
     "text": [
      "Requirement already satisfied: tensorflow-addons in c:\\users\\rahil\\appdata\\local\\programs\\python\\python311\\lib\\site-packages (0.22.0)Note: you may need to restart the kernel to use updated packages.\n"
     ]
    },
    {
     "name": "stderr",
     "output_type": "stream",
     "text": [
      "\n",
      "[notice] A new release of pip available: 22.3.1 -> 23.3.1\n",
      "[notice] To update, run: python.exe -m pip install --upgrade pip\n"
     ]
    },
    {
     "name": "stdout",
     "output_type": "stream",
     "text": [
      "\n",
      "Requirement already satisfied: typeguard<3.0.0,>=2.7 in c:\\users\\rahil\\appdata\\local\\programs\\python\\python311\\lib\\site-packages (from tensorflow-addons) (2.13.3)\n",
      "Requirement already satisfied: packaging in c:\\users\\rahil\\appdata\\roaming\\python\\python311\\site-packages (from tensorflow-addons) (23.2)\n",
      "Requirement already satisfied: vit_keras in c:\\users\\rahil\\appdata\\local\\programs\\python\\python311\\lib\\site-packages (0.1.2)\n",
      "Requirement already satisfied: scipy in c:\\users\\rahil\\appdata\\local\\programs\\python\\python311\\lib\\site-packages (from vit_keras) (1.11.3)\n",
      "Requirement already satisfied: validators in c:\\users\\rahil\\appdata\\local\\programs\\python\\python311\\lib\\site-packages (from vit_keras) (0.22.0)\n",
      "Requirement already satisfied: numpy<1.28.0,>=1.21.6 in c:\\users\\rahil\\appdata\\local\\programs\\python\\python311\\lib\\site-packages (from scipy->vit_keras) (1.26.2)\n",
      "Note: you may need to restart the kernel to use updated packages.\n"
     ]
    },
    {
     "name": "stderr",
     "output_type": "stream",
     "text": [
      "\n",
      "[notice] A new release of pip available: 22.3.1 -> 23.3.1\n",
      "[notice] To update, run: python.exe -m pip install --upgrade pip\n"
     ]
    },
    {
     "name": "stdout",
     "output_type": "stream",
     "text": [
      "Requirement already satisfied: opencv-python in c:\\users\\rahil\\appdata\\local\\programs\\python\\python311\\lib\\site-packages (4.8.1.78)\n",
      "Requirement already satisfied: numpy>=1.21.2 in c:\\users\\rahil\\appdata\\local\\programs\\python\\python311\\lib\\site-packages (from opencv-python) (1.26.2)\n",
      "Note: you may need to restart the kernel to use updated packages.\n"
     ]
    },
    {
     "name": "stderr",
     "output_type": "stream",
     "text": [
      "\n",
      "[notice] A new release of pip available: 22.3.1 -> 23.3.1\n",
      "[notice] To update, run: python.exe -m pip install --upgrade pip\n"
     ]
    }
   ],
   "source": [
    "%pip install tensorflow\n",
    "%pip install keras\n",
    "%pip install imblearn\n",
    "%pip install matplotlib\n",
    "%pip install seaborn\n",
    "%pip install scikit-learn\n",
    "%pip install tensorflow-addons\n",
    "%pip install vit_keras\n",
    "%pip install opencv-python"
   ]
  },
  {
   "cell_type": "markdown",
   "metadata": {},
   "source": [
    "### <font color=purple> import libraries </font>"
   ]
  },
  {
   "cell_type": "code",
   "execution_count": 2,
   "metadata": {},
   "outputs": [
    {
     "name": "stdout",
     "output_type": "stream",
     "text": [
      "WARNING:tensorflow:From c:\\Users\\rahil\\AppData\\Local\\Programs\\Python\\Python311\\Lib\\site-packages\\keras\\src\\losses.py:2976: The name tf.losses.sparse_softmax_cross_entropy is deprecated. Please use tf.compat.v1.losses.sparse_softmax_cross_entropy instead.\n",
      "\n"
     ]
    },
    {
     "name": "stderr",
     "output_type": "stream",
     "text": [
      "c:\\Users\\rahil\\AppData\\Local\\Programs\\Python\\Python311\\Lib\\site-packages\\tensorflow_addons\\utils\\tfa_eol_msg.py:23: UserWarning: \n",
      "\n",
      "TensorFlow Addons (TFA) has ended development and introduction of new features.\n",
      "TFA has entered a minimal maintenance and release mode until a planned end of life in May 2024.\n",
      "Please modify downstream libraries to take dependencies from other repositories in our TensorFlow community (e.g. Keras, Keras-CV, and Keras-NLP). \n",
      "\n",
      "For more information see: https://github.com/tensorflow/addons/issues/2807 \n",
      "\n",
      "  warnings.warn(\n",
      "c:\\Users\\rahil\\AppData\\Local\\Programs\\Python\\Python311\\Lib\\site-packages\\tensorflow_addons\\utils\\ensure_tf_install.py:53: UserWarning: Tensorflow Addons supports using Python ops for all Tensorflow versions above or equal to 2.12.0 and strictly below 2.15.0 (nightly versions are not supported). \n",
      " The versions of TensorFlow you are currently using is 2.15.0 and is not supported. \n",
      "Some things might work, some things might not.\n",
      "If you were to encounter a bug, do not file an issue.\n",
      "If you want to make sure you're using a tested and supported configuration, either change the TensorFlow version or the TensorFlow Addons's version. \n",
      "You can find the compatibility matrix in TensorFlow Addon's readme:\n",
      "https://github.com/tensorflow/addons\n",
      "  warnings.warn(\n"
     ]
    }
   ],
   "source": [
    "import numpy as np\n",
    "import random\n",
    "\n",
    "#   Plotting\n",
    "import seaborn as sns\n",
    "import matplotlib.pyplot as plt\n",
    "\n",
    "\n",
    "#   DataGenerator to read images and rescale images\n",
    "from tensorflow.keras.preprocessing.image import ImageDataGenerator\n",
    "\n",
    "import tensorflow as tf\n",
    "import tensorflow_addons as tfa\n",
    "\n",
    "#   count each class samples\n",
    "from collections import Counter\n",
    "\n",
    "#   callbacks\n",
    "from tensorflow.keras.callbacks import ReduceLROnPlateau\n",
    "\n",
    "#   evaluate precison recall and f1-score of each class of model\n",
    "from sklearn.metrics import classification_report\n",
    "#   Show performance of a classification model\n",
    "from sklearn.metrics import confusion_matrix\n",
    "\n",
    "#   Different layers\n",
    "from keras.initializers import GlorotUniform\n",
    "from keras.models import Sequential\n",
    "from keras.models import Model\n",
    "\n",
    "from tensorflow.keras.layers import Input\n",
    "from tensorflow.keras.layers import Flatten\n",
    "from tensorflow.keras.layers import Dense\n",
    "from tensorflow.keras.layers import Dropout\n",
    "from tensorflow.keras.layers import ReLU\n",
    "from tensorflow.keras.layers import Softmax\n",
    "from tensorflow.keras.layers import GroupNormalization\n",
    "from tensorflow.keras.layers import Attention\n",
    "\n",
    "from vit_keras import vit, utils\n",
    "\n",
    "# split dataset to train, validation and test set\n",
    "from sklearn.model_selection import train_test_split\n",
    "\n",
    "#   callbacks\n",
    "from keras import callbacks\n",
    "\n",
    "#   SMOTETomek from imblance library\n",
    "from imblearn.combine import SMOTETomek\n",
    "\n",
    "#   Optimizer\n",
    "from tensorflow.keras.optimizers import SGD\n",
    "\n",
    "from sklearn.metrics import roc_curve, auc\n",
    "from itertools import cycle"
   ]
  },
  {
   "cell_type": "markdown",
   "metadata": {},
   "source": [
    "### <font color=purple> Define dataset and rescale images </font> "
   ]
  },
  {
   "cell_type": "code",
   "execution_count": 3,
   "metadata": {},
   "outputs": [
    {
     "name": "stdout",
     "output_type": "stream",
     "text": [
      "Found 6400 images belonging to 4 classes.\n",
      "Images shape :\t (6400, 176, 208, 3)\n",
      "Labels shape :\t (6400, 4)\n"
     ]
    }
   ],
   "source": [
    "## Set Path Here before running the code\n",
    "WORKING_DIRECTORY =  \"C:/Users/rahil/OneDrive/Desktop/Dataset\"\n",
    "\n",
    "##  Name of classes \n",
    "CLASSES = ['MildDemented',\n",
    "           'ModerateDemented',\n",
    "           'NonDemented',\n",
    "           'VeryMildDemented']\n",
    "\n",
    "X, y = [], []\n",
    "\n",
    "## Images rescaling\n",
    "datagen = ImageDataGenerator(rescale=1.0/255.0)\n",
    "\n",
    "#   Load images by resizing and shuffling randomly\n",
    "train_dataset = datagen.flow_from_directory(WORKING_DIRECTORY, target_size=(176, 208),batch_size=6400, shuffle=True)\n",
    "\n",
    "### Seperate Dataset from  Data Genrator\n",
    "X, y = train_dataset.next()\n",
    "\n",
    "samples_before = len(X)\n",
    "print(\"Images shape :\\t\", X.shape)\n",
    "print(\"Labels shape :\\t\", y.shape)"
   ]
  },
  {
   "cell_type": "markdown",
   "metadata": {},
   "source": [
    "### <font color=purple> Define unbalanced testing data </font> "
   ]
  },
  {
   "cell_type": "code",
   "execution_count": 4,
   "metadata": {},
   "outputs": [
    {
     "name": "stdout",
     "output_type": "stream",
     "text": [
      "Number of samples in unbalanced dataset: \t [(0, 88), (1, 3), (2, 311), (3, 238)]\n"
     ]
    }
   ],
   "source": [
    "#   reshaping the images to 1D\n",
    "X = X.reshape(-1, 176 * 208 * 3)\n",
    "\n",
    "# create unbalanced dataset and dataset used in rebalancing\n",
    "X, unbal_x, y, unbal_y = train_test_split(X, y, test_size=0.1)\n",
    "unbal_x = unbal_x.reshape(-1, 176, 208, 3)\n",
    "\n",
    "# unbalanced data\n",
    "unbalanced_samples = len(unbal_x)\n",
    "print(\"Number of samples in unbalanced dataset: \\t\", sorted(Counter(np.argmax(unbal_y, axis = 1)).items()))\n",
    "\n"
   ]
  },
  {
   "cell_type": "markdown",
   "metadata": {},
   "source": []
  },
  {
   "cell_type": "markdown",
   "metadata": {},
   "source": [
    "### <font color=purple> SMOTETOMEK rebalance the remaining data </font> "
   ]
  },
  {
   "cell_type": "code",
   "execution_count": 5,
   "metadata": {},
   "outputs": [
    {
     "name": "stdout",
     "output_type": "stream",
     "text": [
      "Number of samples after SMOTETomek :\t [(0, 2889), (1, 2889), (2, 2889), (3, 2889)]\n"
     ]
    }
   ],
   "source": [
    "#   Oversampling method to remove imbalance class problem\n",
    "X, y = SMOTETomek().fit_resample(X, y)\n",
    "\n",
    "#   reshape images to images size of 208, 176, 3\n",
    "X = X.reshape(-1, 176, 208, 3)\n",
    "\n",
    "samples_after = len(X)\n",
    "print(\"Number of samples after SMOTETomek :\\t\", sorted(Counter(np.argmax(y, axis=1)).items()))"
   ]
  },
  {
   "cell_type": "markdown",
   "metadata": {},
   "source": [
    "### <font color=purple> Split balanced dataset for training, validation, and testing </font> "
   ]
  },
  {
   "cell_type": "code",
   "execution_count": 6,
   "metadata": {},
   "outputs": [
    {
     "name": "stdout",
     "output_type": "stream",
     "text": [
      "Number of samples after splitting into Training, validation & test set\n",
      "\n",
      "Train     \t [(0, 1849), (1, 1861), (2, 1855), (3, 1830)]\n",
      "Validation\t [(0, 583), (1, 556), (2, 584), (3, 589)]\n",
      "Test      \t [(0, 457), (1, 472), (2, 450), (3, 470)]\n",
      "Unbalanced\t [(0, 88), (1, 3), (2, 311), (3, 238)]\n"
     ]
    }
   ],
   "source": [
    "#   20% split to validation and 80% split to train set\n",
    "X_train, x_val, y_train, y_val = train_test_split(X,y, test_size = 0.2)\n",
    "\n",
    "#   20% split to test from 80% of train and 60% remains in train set\n",
    "X_train, x_test, y_train, y_test = train_test_split(X_train,y_train, test_size = 0.2)\n",
    "\n",
    "# Number of samples after train test split\n",
    "print(\"Number of samples after splitting into Training, validation & test set\\n\")\n",
    "\n",
    "print(\"Train     \\t\",sorted(Counter(np.argmax(y_train, axis=1)).items()))\n",
    "print(\"Validation\\t\",sorted(Counter(np.argmax(y_val, axis=1)).items()))\n",
    "print(\"Test      \\t\",sorted(Counter(np.argmax(y_test, axis=1)).items()))\n",
    "print(\"Unbalanced\\t\",sorted(Counter(np.argmax(unbal_y, axis=1)).items()))\n",
    "\n",
    "del X, y"
   ]
  },
  {
   "cell_type": "markdown",
   "metadata": {},
   "source": [
    "## **<font color=orange> ViT Model: ViT implementation for the classification of AD using MRIs </font>**"
   ]
  },
  {
   "cell_type": "markdown",
   "metadata": {},
   "source": [
    "### <font color=Orange> Network Architecture </font> \n",
    " "
   ]
  },
  {
   "cell_type": "code",
   "execution_count": 7,
   "metadata": {},
   "outputs": [
    {
     "name": "stdout",
     "output_type": "stream",
     "text": [
      "WARNING:tensorflow:From c:\\Users\\rahil\\AppData\\Local\\Programs\\Python\\Python311\\Lib\\site-packages\\keras\\src\\backend.py:1398: The name tf.executing_eagerly_outside_functions is deprecated. Please use tf.compat.v1.executing_eagerly_outside_functions instead.\n",
      "\n"
     ]
    },
    {
     "name": "stderr",
     "output_type": "stream",
     "text": [
      "c:\\Users\\rahil\\AppData\\Local\\Programs\\Python\\Python311\\Lib\\site-packages\\vit_keras\\utils.py:81: UserWarning: Resizing position embeddings from 24, 24 to 13, 11\n",
      "  warnings.warn(\n"
     ]
    },
    {
     "name": "stdout",
     "output_type": "stream",
     "text": [
      "Model: \"vit-b16\"\n",
      "_________________________________________________________________\n",
      " Layer (type)                Output Shape              Param #   \n",
      "=================================================================\n",
      " input_1 (InputLayer)        [(None, 176, 208, 3)]     0         \n",
      "                                                                 \n",
      " embedding (Conv2D)          (None, 11, 13, 768)       590592    \n",
      "                                                                 \n",
      " reshape (Reshape)           (None, 143, 768)          0         \n",
      "                                                                 \n",
      " class_token (ClassToken)    (None, 144, 768)          768       \n",
      "                                                                 \n",
      " Transformer/posembed_input  (None, 144, 768)          110592    \n",
      "  (AddPositionEmbs)                                              \n",
      "                                                                 \n",
      " Transformer/encoderblock_0  ((None, 144, 768),        7087872   \n",
      "  (TransformerBlock)          (None, 12, None, None)             \n",
      "                             )                                   \n",
      "                                                                 \n",
      " Transformer/encoderblock_1  ((None, 144, 768),        7087872   \n",
      "  (TransformerBlock)          (None, 12, None, None)             \n",
      "                             )                                   \n",
      "                                                                 \n",
      " Transformer/encoderblock_2  ((None, 144, 768),        7087872   \n",
      "  (TransformerBlock)          (None, 12, None, None)             \n",
      "                             )                                   \n",
      "                                                                 \n",
      " Transformer/encoderblock_3  ((None, 144, 768),        7087872   \n",
      "  (TransformerBlock)          (None, 12, None, None)             \n",
      "                             )                                   \n",
      "                                                                 \n",
      " Transformer/encoderblock_4  ((None, 144, 768),        7087872   \n",
      "  (TransformerBlock)          (None, 12, None, None)             \n",
      "                             )                                   \n",
      "                                                                 \n",
      " Transformer/encoderblock_5  ((None, 144, 768),        7087872   \n",
      "  (TransformerBlock)          (None, 12, None, None)             \n",
      "                             )                                   \n",
      "                                                                 \n",
      " Transformer/encoderblock_6  ((None, 144, 768),        7087872   \n",
      "  (TransformerBlock)          (None, 12, None, None)             \n",
      "                             )                                   \n",
      "                                                                 \n",
      " Transformer/encoderblock_7  ((None, 144, 768),        7087872   \n",
      "  (TransformerBlock)          (None, 12, None, None)             \n",
      "                             )                                   \n",
      "                                                                 \n",
      " Transformer/encoderblock_8  ((None, 144, 768),        7087872   \n",
      "  (TransformerBlock)          (None, 12, None, None)             \n",
      "                             )                                   \n",
      "                                                                 \n",
      " Transformer/encoderblock_9  ((None, 144, 768),        7087872   \n",
      "  (TransformerBlock)          (None, 12, None, None)             \n",
      "                             )                                   \n",
      "                                                                 \n",
      " Transformer/encoderblock_1  ((None, 144, 768),        7087872   \n",
      " 0 (TransformerBlock)         (None, 12, None, None)             \n",
      "                             )                                   \n",
      "                                                                 \n",
      " Transformer/encoderblock_1  ((None, 144, 768),        7087872   \n",
      " 1 (TransformerBlock)         (None, 12, None, None)             \n",
      "                             )                                   \n",
      "                                                                 \n",
      " Transformer/encoder_norm (  (None, 144, 768)          1536      \n",
      " LayerNormalization)                                             \n",
      "                                                                 \n",
      " ExtractToken (Lambda)       (None, 768)               0         \n",
      "                                                                 \n",
      "=================================================================\n",
      "Total params: 85757952 (327.14 MB)\n",
      "Trainable params: 85757952 (327.14 MB)\n",
      "Non-trainable params: 0 (0.00 Byte)\n",
      "_________________________________________________________________\n",
      "Model: \"sequential\"\n",
      "_________________________________________________________________\n",
      " Layer (type)                Output Shape              Param #   \n",
      "=================================================================\n",
      " vit-b16 (Functional)        (None, 768)               85757952  \n",
      "                                                                 \n",
      " flatten (Flatten)           (None, 768)               0         \n",
      "                                                                 \n",
      " dense (Dense)               (None, 256)               196864    \n",
      "                                                                 \n",
      " re_lu (ReLU)                (None, 256)               0         \n",
      "                                                                 \n",
      " dropout (Dropout)           (None, 256)               0         \n",
      "                                                                 \n",
      " dense_1 (Dense)             (None, 4)                 1028      \n",
      "                                                                 \n",
      " softmax (Softmax)           (None, 4)                 0         \n",
      "                                                                 \n",
      "=================================================================\n",
      "Total params: 85955844 (327.90 MB)\n",
      "Trainable params: 85955844 (327.90 MB)\n",
      "Non-trainable params: 0 (0.00 Byte)\n",
      "_________________________________________________________________\n"
     ]
    }
   ],
   "source": [
    "\n",
    "init = 'glorot_uniform'\n",
    "\n",
    "# Define the ViT model\n",
    "vit_block = vit.vit_b16(\n",
    "    image_size=(176,208),\n",
    "    activation='ReLU',\n",
    "    classes = 4,\n",
    "    pretrained=True,\n",
    "    include_top=False,  \n",
    "    pretrained_top=False,\n",
    ")\n",
    "\n",
    "# Create a Sequential model and add the ViT model\n",
    "ViT_Model = Sequential()\n",
    "\n",
    "# Add the ViT model as the first layer\n",
    "ViT_Model.add(vit_block)\n",
    "\n",
    "# Add a GlobalAveragePooling2D layer if needed\n",
    "ViT_Model.add(Flatten())\n",
    "ViT_Model.add(Dense(256, kernel_initializer=init))\n",
    "ViT_Model.add(ReLU())\n",
    "ViT_Model.add(Dropout(0.03))\n",
    "\n",
    "ViT_Model.add(Dense(4, kernel_initializer=init))\n",
    "ViT_Model.add(Softmax())\n",
    "\n",
    "# Display the model summary\n",
    "vit_block.summary()\n",
    "ViT_Model.summary()\n",
    "#ViTRecallNet.summary()\n"
   ]
  },
  {
   "cell_type": "code",
   "execution_count": 9,
   "metadata": {},
   "outputs": [],
   "source": [
    "### Model Compilation\n",
    "ViT_Model.compile(\n",
    "    optimizer=SGD(learning_rate=0.01), \n",
    "    loss = tf.keras.losses.CategoricalCrossentropy(name='loss'), \n",
    "    metrics=[\n",
    "        tf.keras.metrics.CategoricalAccuracy(name='acc'), \n",
    "        tf.keras.metrics.AUC(name='auc'),\n",
    "        tfa.metrics.F1Score(num_classes=4),\n",
    "        tf.metrics.Precision(name=\"precision\"),\n",
    "        tf.metrics.Recall(name=\"recall\") ])"
   ]
  },
  {
   "cell_type": "code",
   "execution_count": 10,
   "metadata": {},
   "outputs": [],
   "source": [
    "# callbacks used in model to perform well\n",
    "rop_callback = ReduceLROnPlateau(monitor=\"val_loss\", patience=3)\n",
    "\n",
    "CALLBACKS = [rop_callback]"
   ]
  },
  {
   "cell_type": "code",
   "execution_count": 13,
   "metadata": {},
   "outputs": [
    {
     "name": "stdout",
     "output_type": "stream",
     "text": [
      "Epoch 1/8\n"
     ]
    },
    {
     "name": "stdout",
     "output_type": "stream",
     "text": [
      "924/924 [==============================] - 1710s 2s/step - loss: 0.5601 - acc: 0.7410 - auc: 0.9412 - f1_score: 0.7379 - precision: 0.7835 - recall: 0.6862 - val_loss: 0.4151 - val_acc: 0.8198 - val_auc: 0.9682 - val_f1_score: 0.8160 - val_precision: 0.8519 - val_recall: 0.7873 - lr: 0.0100\n",
      "Epoch 2/8\n",
      "924/924 [==============================] - 1724s 2s/step - loss: 0.4160 - acc: 0.8193 - auc: 0.9677 - f1_score: 0.8182 - precision: 0.8398 - recall: 0.7957 - val_loss: 0.2676 - val_acc: 0.8918 - val_auc: 0.9875 - val_f1_score: 0.8937 - val_precision: 0.9019 - val_recall: 0.8810 - lr: 0.0100\n",
      "Epoch 3/8\n",
      "924/924 [==============================] - 1725s 2s/step - loss: 0.2952 - acc: 0.8756 - auc: 0.9834 - f1_score: 0.8746 - precision: 0.8837 - recall: 0.8642 - val_loss: 0.2338 - val_acc: 0.9113 - val_auc: 0.9898 - val_f1_score: 0.9129 - val_precision: 0.9154 - val_recall: 0.9075 - lr: 0.0100\n",
      "Epoch 4/8\n",
      "924/924 [==============================] - 1724s 2s/step - loss: 0.2236 - acc: 0.9086 - auc: 0.9902 - f1_score: 0.9082 - precision: 0.9128 - recall: 0.9042 - val_loss: 0.1817 - val_acc: 0.9264 - val_auc: 0.9933 - val_f1_score: 0.9259 - val_precision: 0.9311 - val_recall: 0.9210 - lr: 0.0100\n",
      "Epoch 5/8\n",
      "924/924 [==============================] - 1736s 2s/step - loss: 0.1549 - acc: 0.9407 - auc: 0.9951 - f1_score: 0.9405 - precision: 0.9442 - recall: 0.9375 - val_loss: 0.1041 - val_acc: 0.9589 - val_auc: 0.9976 - val_f1_score: 0.9586 - val_precision: 0.9599 - val_recall: 0.9583 - lr: 0.0100\n",
      "Epoch 6/8\n",
      "924/924 [==============================] - 1739s 2s/step - loss: 0.1130 - acc: 0.9542 - auc: 0.9972 - f1_score: 0.9541 - precision: 0.9572 - recall: 0.9534 - val_loss: 0.2223 - val_acc: 0.9177 - val_auc: 0.9897 - val_f1_score: 0.9168 - val_precision: 0.9211 - val_recall: 0.9156 - lr: 0.0100\n",
      "Epoch 7/8\n",
      "924/924 [==============================] - 1730s 2s/step - loss: 0.0813 - acc: 0.9702 - auc: 0.9982 - f1_score: 0.9701 - precision: 0.9715 - recall: 0.9697 - val_loss: 0.0702 - val_acc: 0.9762 - val_auc: 0.9986 - val_f1_score: 0.9763 - val_precision: 0.9762 - val_recall: 0.9751 - lr: 0.0100\n",
      "Epoch 8/8\n",
      "924/924 [==============================] - 1727s 2s/step - loss: 0.0641 - acc: 0.9764 - auc: 0.9987 - f1_score: 0.9764 - precision: 0.9771 - recall: 0.9759 - val_loss: 0.0747 - val_acc: 0.9713 - val_auc: 0.9990 - val_f1_score: 0.9720 - val_precision: 0.9729 - val_recall: 0.9713 - lr: 0.0100\n"
     ]
    }
   ],
   "source": [
    "#   declare to run on small gpu create batch sizes of images\n",
    "valAug = ImageDataGenerator()\n",
    "\n",
    "#   defining batch size\n",
    "batch_size = 8\n",
    "\n",
    "history = ViT_Model.fit(valAug.flow(X_train, y_train, batch_size=batch_size, shuffle = True),\n",
    "steps_per_epoch=len(X_train) // batch_size,\n",
    "validation_data=valAug.flow(x_val, y_val, batch_size=batch_size, shuffle = True),\n",
    "validation_steps=len(x_test) // batch_size,\n",
    "epochs= 8,\n",
    "batch_size=batch_size,\n",
    "callbacks = CALLBACKS\n",
    ")"
   ]
  },
  {
   "cell_type": "markdown",
   "metadata": {},
   "source": [
    "### <font color=Orange> Evaluation using balanced test data </font> "
   ]
  },
  {
   "cell_type": "code",
   "execution_count": 14,
   "metadata": {},
   "outputs": [
    {
     "name": "stdout",
     "output_type": "stream",
     "text": [
      "58/58 [==============================] - 118s 2s/step - loss: 0.0820 - acc: 0.9740 - auc: 0.9980 - f1_score: 0.9738 - precision: 0.9746 - recall: 0.9740\n",
      "\n",
      "\n",
      "Testing Loss : \t\t 0.082042\n",
      "Testing Accuracy : \t 97.404003 %\n",
      "Testing AUC : \t\t 99.795556 %\n",
      "Testing F1-Score : \t 97.380304 %\n",
      "Testing Precision : \t 97.456712 %\n",
      "Testing Recall : \t 97.404003 %\n"
     ]
    }
   ],
   "source": [
    "### Evaluate Model\n",
    "test_scores = ViT_Model.evaluate(x_test, y_test, batch_size = 32)\n",
    "\n",
    "\n",
    "print(\"\\n\\nTesting Loss : \\t\\t {0:0.6f}\".format(test_scores[0] ))\n",
    "print(\"Testing Accuracy : \\t {0:0.6f} %\".format(test_scores[1] * 100))\n",
    "print(\"Testing AUC : \\t\\t {0:0.6f} %\".format(test_scores[2] * 100))\n",
    "print(\"Testing F1-Score : \\t {0:0.6f} %\".format(((test_scores[3][0] + test_scores[3][1] + test_scores[3][2] + test_scores[3][3])/4) * 100))\n",
    "print(\"Testing Precision : \\t {0:0.6f} %\".format(test_scores[4] * 100))\n",
    "print(\"Testing Recall : \\t {0:0.6f} %\".format(test_scores[5] * 100))"
   ]
  },
  {
   "cell_type": "code",
   "execution_count": 15,
   "metadata": {},
   "outputs": [
    {
     "name": "stdout",
     "output_type": "stream",
     "text": [
      "58/58 [==============================] - 121s 2s/step\n",
      "                  precision    recall  f1-score   support\n",
      "\n",
      "    MildDemented       0.99      1.00      0.99       457\n",
      "ModerateDemented       1.00      1.00      1.00       472\n",
      "     NonDemented       0.98      0.92      0.95       450\n",
      "VeryMildDemented       0.93      0.98      0.95       470\n",
      "\n",
      "       micro avg       0.97      0.97      0.97      1849\n",
      "       macro avg       0.97      0.97      0.97      1849\n",
      "    weighted avg       0.97      0.97      0.97      1849\n",
      "     samples avg       0.97      0.97      0.97      1849\n",
      "\n"
     ]
    }
   ],
   "source": [
    "pred_labels = ViT_Model.predict(x_test, batch_size=32)\n",
    "\n",
    "def roundoff(arr):\n",
    "    arr[np.argwhere(arr != arr.max())] = 0\n",
    "    arr[np.argwhere(arr == arr.max())] = 1\n",
    "    return arr\n",
    "\n",
    "for labels in pred_labels:\n",
    "    labels = roundoff(labels)\n",
    "\n",
    "print(classification_report(y_test, pred_labels, target_names=CLASSES))"
   ]
  },
  {
   "cell_type": "code",
   "execution_count": 16,
   "metadata": {},
   "outputs": [
    {
     "data": {
      "image/png": "[encoded data removed]",
      "text/plain": [
       "<Figure size 800x640 with 2 Axes>"
      ]
     },
     "metadata": {},
     "output_type": "display_data"
    }
   ],
   "source": [
    "pred_ls = np.argmax(pred_labels, axis=1)\n",
    "test_ls = np.argmax(y_test, axis=1)\n",
    "\n",
    "conf_arr = confusion_matrix(test_ls, pred_ls)\n",
    "\n",
    "plt.figure(figsize=(10, 8), dpi=80, facecolor='w', edgecolor='k')\n",
    "\n",
    "ax = sns.heatmap(conf_arr, cmap='Greens', annot=True, fmt='d', xticklabels= CLASSES, yticklabels=CLASSES)\n",
    "\n",
    "plt.title('Confusion Matrix of Model', fontweight='bold', fontsize=14.0)\n",
    "plt.xlabel('Predictions', fontweight='bold', fontsize=13)\n",
    "plt.ylabel('Ground Truth', fontweight='bold', fontsize=13)\n",
    "plt.tight_layout()\n",
    "plt.show(ax)"
   ]
  },
  {
   "cell_type": "markdown",
   "metadata": {},
   "source": [
    "### <font color=Orange> Evaluation using unbalanced test data </font> "
   ]
  },
  {
   "cell_type": "code",
   "execution_count": 17,
   "metadata": {},
   "outputs": [
    {
     "name": "stdout",
     "output_type": "stream",
     "text": [
      "20/20 [==============================] - 42s 2s/step - loss: 0.2511 - acc: 0.9141 - auc: 0.9886 - f1_score: 0.9388 - precision: 0.9182 - recall: 0.9125\n",
      "\n",
      "\n",
      "Testing Loss : \t\t 0.251072\n",
      "Testing Accuracy : \t 91.406250 %\n",
      "Testing AUC : \t\t 98.861933 %\n",
      "Testing F1-Score : \t 93.877947 %\n",
      "Testing Precision : \t 91.823900 %\n",
      "Testing Recall : \t 91.250002 %\n"
     ]
    }
   ],
   "source": [
    "## evaluation with unbalanced data\n",
    "unbal_scores = ViT_Model.evaluate(unbal_x, unbal_y, batch_size = 32)\n",
    "\n",
    "\n",
    "print(\"\\n\\nTesting Loss : \\t\\t {0:0.6f}\".format(unbal_scores[0] ))\n",
    "print(\"Testing Accuracy : \\t {0:0.6f} %\".format(unbal_scores[1] * 100))\n",
    "print(\"Testing AUC : \\t\\t {0:0.6f} %\".format(unbal_scores[2] * 100))\n",
    "print(\"Testing F1-Score : \\t {0:0.6f} %\".format(((unbal_scores[3][0] + unbal_scores[3][1] + unbal_scores[3][2] + unbal_scores[3][3])/4) * 100))\n",
    "print(\"Testing Precision : \\t {0:0.6f} %\".format(unbal_scores[4] * 100))\n",
    "print(\"Testing Recall : \\t {0:0.6f} %\".format(unbal_scores[5] * 100))"
   ]
  },
  {
   "cell_type": "code",
   "execution_count": 18,
   "metadata": {},
   "outputs": [
    {
     "name": "stdout",
     "output_type": "stream",
     "text": [
      "20/20 [==============================] - 40s 2s/step\n",
      "                  precision    recall  f1-score   support\n",
      "\n",
      "    MildDemented       0.94      0.93      0.94        88\n",
      "ModerateDemented       1.00      1.00      1.00         3\n",
      "     NonDemented       0.97      0.88      0.92       311\n",
      "VeryMildDemented       0.85      0.95      0.90       238\n",
      "\n",
      "       micro avg       0.91      0.91      0.91       640\n",
      "       macro avg       0.94      0.94      0.94       640\n",
      "    weighted avg       0.92      0.91      0.91       640\n",
      "     samples avg       0.91      0.91      0.91       640\n",
      "\n"
     ]
    }
   ],
   "source": [
    "pred_labels_unbal = ViT_Model.predict(unbal_x, batch_size=32)\n",
    "\n",
    "def roundoff(arr):\n",
    "    arr[np.argwhere(arr != arr.max())] = 0\n",
    "    arr[np.argwhere(arr == arr.max())] = 1\n",
    "    return arr\n",
    "\n",
    "for labels_unbal in pred_labels_unbal:\n",
    "    labels_unbal = roundoff(labels_unbal)\n",
    "\n",
    "print(classification_report(unbal_y, pred_labels_unbal, target_names=CLASSES))"
   ]
  },
  {
   "cell_type": "code",
   "execution_count": 19,
   "metadata": {},
   "outputs": [
    {
     "data": {
      "image/png": "[encoded data removed]",
      "text/plain": [
       "<Figure size 800x640 with 2 Axes>"
      ]
     },
     "metadata": {},
     "output_type": "display_data"
    }
   ],
   "source": [
    "pred_ls_unbal = np.argmax(pred_labels_unbal, axis=1)\n",
    "test_ls_unbal = np.argmax(unbal_y, axis=1)\n",
    "\n",
    "conf_arr_unbal = confusion_matrix(test_ls_unbal, pred_ls_unbal)\n",
    "\n",
    "plt.figure(figsize=(10, 8), dpi=80, facecolor='w', edgecolor='k')\n",
    "\n",
    "ax = sns.heatmap(conf_arr_unbal, cmap='Greens', annot=True, fmt='d', xticklabels= CLASSES, yticklabels=CLASSES)\n",
    "\n",
    "plt.title('Confusion Matrix of Model', fontweight='bold', fontsize=14.0)\n",
    "plt.xlabel('Predictions', fontweight='bold', fontsize=13)\n",
    "plt.ylabel('Ground Truth', fontweight='bold', fontsize=13)\n",
    "plt.tight_layout()\n",
    "plt.show(ax)"
   ]
  },
  {
   "cell_type": "code",
   "execution_count": null,
   "metadata": {},
   "outputs": [],
   "source": []
  }
 ],
 "metadata": {
  "kernelspec": {
   "display_name": "Python 3",
   "language": "python",
   "name": "python3"
  },
  "language_info": {
   "codemirror_mode": {
    "name": "ipython",
    "version": 3
   },
   "file_extension": ".py",
   "mimetype": "text/x-python",
   "name": "python",
   "nbconvert_exporter": "python",
   "pygments_lexer": "ipython3",
   "version": "3.11.1"
  }
 },
 "nbformat": 4,
 "nbformat_minor": 2
}
